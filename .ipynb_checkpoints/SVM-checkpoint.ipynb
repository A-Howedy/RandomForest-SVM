{
 "cells": [
  {
   "cell_type": "code",
   "execution_count": null,
   "id": "cd26c439-b18c-49ae-891b-26bbbe8121ee",
   "metadata": {},
   "outputs": [],
   "source": [
    "def simplified_SMO(C, tolerance, max_passes, train):\n",
    "        "
   ]
  }
 ],
 "metadata": {
  "kernelspec": {
   "display_name": "Python 3 (ipykernel)",
   "language": "python",
   "name": "python3"
  },
  "language_info": {
   "codemirror_mode": {
    "name": "ipython",
    "version": 3
   },
   "file_extension": ".py",
   "mimetype": "text/x-python",
   "name": "python",
   "nbconvert_exporter": "python",
   "pygments_lexer": "ipython3",
   "version": "3.9.7"
  }
 },
 "nbformat": 4,
 "nbformat_minor": 5
}

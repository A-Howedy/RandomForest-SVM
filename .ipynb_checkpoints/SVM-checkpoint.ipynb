{
 "cells": [
  {
   "cell_type": "code",
   "execution_count": 480,
   "id": "1a4e1cf9-48cf-4f54-9341-88e47d21dd74",
   "metadata": {},
   "outputs": [],
   "source": [
    "import numpy as np\n",
    "import math\n",
    "import pandas as pd\n",
    "import random\n",
    "import matplotlib.pyplot as plt\n",
    "from sklearn.model_selection import train_test_split\n",
    "from sklearn.preprocessing import LabelEncoder"
   ]
  },
  {
   "cell_type": "code",
   "execution_count": 274,
   "id": "86cd20fb-4e14-4cd8-be10-c1b9abd16e32",
   "metadata": {},
   "outputs": [],
   "source": [
    "def split_frame(train):\n",
    "    y = train['class']\n",
    "    del train['class']\n",
    "    return train.to_numpy(), y.replace(0,-1).to_numpy()"
   ]
  },
  {
   "cell_type": "code",
   "execution_count": 571,
   "id": "b5a0600e-5e0f-49ef-935e-d9166d383990",
   "metadata": {},
   "outputs": [],
   "source": [
    "def svm_func(alphas, x, y, xk, b, kernel):\n",
    "    f = 0\n",
    "    for i in range(0, len(y)):\n",
    "        f += alphas[i] * y[i] * kernel(xk,x[i]) + b\n",
    "    return f"
   ]
  },
  {
   "cell_type": "code",
   "execution_count": 671,
   "id": "8a295e85-d1e4-4fb2-a94e-65459b41e04d",
   "metadata": {},
   "outputs": [],
   "source": [
    "def fi(a,y,x,xk,b,kernel):\n",
    "    f = 0\n",
    "    for i in range(0,len(y)):\n",
    "        f+= a[i] * y[i] * kernel(x[i],xk) - b\n",
    "    return f"
   ]
  },
  {
   "cell_type": "code",
   "execution_count": 206,
   "id": "4e31bfe3-797f-484a-9f42-365add62b936",
   "metadata": {},
   "outputs": [],
   "source": [
    "def linear(x, w, b):\n",
    "    return np.sign(np.dot(w.T, x.T) + b ).astype(int)"
   ]
  },
  {
   "cell_type": "code",
   "execution_count": 460,
   "id": "fa2d12f9-a101-43d5-b54f-4fbe2871253f",
   "metadata": {
    "tags": []
   },
   "outputs": [],
   "source": [
    "def gaussian_kernel(a, b):\n",
    "    sigma = 0.1\n",
    "    a = a.flatten()\n",
    "    b = b.flatten()\n",
    "    return np.exp(- np.sum(np.power((a-b),2)) / float(2*(sigma*sigma)))"
   ]
  },
  {
   "cell_type": "code",
   "execution_count": 384,
   "id": "8bfc4563-2a75-4400-a199-141588700c45",
   "metadata": {},
   "outputs": [],
   "source": [
    "def custom_kernel(a,b):\n",
    "    c = 0\n",
    "    A = (np.dot(a,b.T) + c)**2\n",
    "    return A"
   ]
  },
  {
   "cell_type": "code",
   "execution_count": 364,
   "id": "04018536-5b7f-4bcf-9334-9191f3e32561",
   "metadata": {},
   "outputs": [],
   "source": [
    "def inner_kernel(a,b):\n",
    "    #return np.inner(a,b).sum()\n",
    "    return np.inner(a,b)"
   ]
  },
  {
   "cell_type": "code",
   "execution_count": 193,
   "id": "fd9d70e2-1326-4019-b4f8-54a0fd5b18f4",
   "metadata": {},
   "outputs": [],
   "source": [
    "def linear_kernel(a,b):\n",
    "    return np.dot(a,b.T)"
   ]
  },
  {
   "cell_type": "code",
   "execution_count": 67,
   "id": "1af3519c-4d83-473f-aaed-4da3e6d6c403",
   "metadata": {},
   "outputs": [],
   "source": [
    "def get_j(train_length, i):\n",
    "    remaining = [j for j in range(0,train_length)]\n",
    "    remaining.remove(i)\n",
    "    return random.choice(remaining)"
   ]
  },
  {
   "cell_type": "code",
   "execution_count": 200,
   "id": "a8ac028d-5ee6-410f-aaa2-c36436de6ad1",
   "metadata": {},
   "outputs": [],
   "source": [
    "def calculate_error(a, x, y, x_set, b, kernel):\n",
    "    f_xk = (a * y) * kernel(x, x_set) +  b\n",
    "    return f_xk - y    "
   ]
  },
  {
   "cell_type": "code",
   "execution_count": 208,
   "id": "1e524684-5f96-4ffd-b304-a279aeb8f079",
   "metadata": {},
   "outputs": [],
   "source": [
    "def calculate_w(a, x, y):\n",
    "    return np.dot(x.T, np.multiply(a,y))"
   ]
  },
  {
   "cell_type": "code",
   "execution_count": 207,
   "id": "9b12e718-0aa1-4d26-9498-498e00f35bff",
   "metadata": {},
   "outputs": [],
   "source": [
    "def new_calculate_error(w, xk, yk, b):\n",
    "    return linear(xk, w, b) - yk     "
   ]
  },
  {
   "cell_type": "code",
   "execution_count": 564,
   "id": "56c4ccfa-7928-42f0-a702-60857ffff7e9",
   "metadata": {},
   "outputs": [],
   "source": [
    "def new_new_cal_error(a,x,y,b,xk,yk,kernel):\n",
    "    f_xk = svm_func(a, x, y, xk, b, kernel)\n",
    "    return f_xk - yk"
   ]
  },
  {
   "cell_type": "code",
   "execution_count": 763,
   "id": "c25c949d-3796-4686-8328-e29cf4d9818d",
   "metadata": {},
   "outputs": [],
   "source": [
    "def calculate_constraints(C, ai, aj, yi, yj):\n",
    "    #L = max(0, (ai-aj)) if (yi != yj) else max(0, (ai+aj-C))\n",
    "    L = max(0, (aj-ai)) if (yi != yj) else max(0, (ai+aj-C))\n",
    "    H = min(C, (C+aj-ai)) if (yi != yj) else min(C, ai+aj)\n",
    "    return L, H"
   ]
  },
  {
   "cell_type": "code",
   "execution_count": 352,
   "id": "8e17f4f4-ebf8-407d-b1fa-8065ae597aa8",
   "metadata": {},
   "outputs": [],
   "source": [
    "def calculate_eta(xi, xj ,kernel):\n",
    "    eta1 = 2 * kernel(xi,xj)\n",
    "    eta2 = kernel(xi,xi)\n",
    "    eta3 = kernel(xj,xj)\n",
    "    return eta1 - eta2 - eta3"
   ]
  },
  {
   "cell_type": "code",
   "execution_count": 785,
   "id": "8996b675-d319-4283-a141-059f46d4d729",
   "metadata": {},
   "outputs": [],
   "source": [
    "def calculate_aj(aj, yj, error_i, error_j, eta, H, L):\n",
    "    #print(f\"aj = {aj} - ({yj}*{error_i} - {error_j}) / {eta}\")\n",
    "    new_aj = aj - ((yj * (error_i - error_j)) / eta)\n",
    "    if new_aj > H:\n",
    "        return H\n",
    "    elif new_aj < L:\n",
    "        return L\n",
    "    else:\n",
    "        return new_aj"
   ]
  },
  {
   "cell_type": "code",
   "execution_count": 786,
   "id": "7085b017-793e-4963-ad79-005a6427d02f",
   "metadata": {},
   "outputs": [],
   "source": [
    "def calculate_ai(ai, yi, yj, a_j_old, aj):\n",
    "    #print(f\"{ai} + {yi}*{yj}*{a_j_old - aj}\")\n",
    "    return ai + (yi*yj)*(a_j_old - aj)"
   ]
  },
  {
   "cell_type": "code",
   "execution_count": 17,
   "id": "21e86a84-4a01-4adf-a8b2-fb4dbefe9f4a",
   "metadata": {},
   "outputs": [],
   "source": [
    "def calculate_b1(b, error_i, yi, ai, a_i_old, xi, yj, aj, a_j_old, xj, kernel):\n",
    "    return b - error_i - yi*(ai - a_i_old)*kernel(xi,xi) - yj*(aj - a_j_old)*kernel(xi,xj)"
   ]
  },
  {
   "cell_type": "code",
   "execution_count": 139,
   "id": "c72884dd-70e0-4557-8634-a879cab117dd",
   "metadata": {},
   "outputs": [],
   "source": [
    "def calculate_b2(b, error_j, yi, ai, a_i_old, xi, xj, yj, aj, a_j_old, kernel):\n",
    "    return b - error_j - yi*(ai - a_i_old)*kernel(xi,xj) - yj*(aj - a_j_old)*kernel(xj,xj)"
   ]
  },
  {
   "cell_type": "code",
   "execution_count": 744,
   "id": "cd26c439-b18c-49ae-891b-26bbbe8121ee",
   "metadata": {},
   "outputs": [],
   "source": [
    "def simplified_SMO(C, tolerance, max_iterations, train, kernel):\n",
    "    x, y = split_frame(train)\n",
    "    train_length = len(x)\n",
    "    j_tol = 0.000005\n",
    "    #initialize Lagrange multiplies\n",
    "    a = np.zeros(train_length)\n",
    "    b = 0\n",
    "    number_of_iterations = 0\n",
    "    while number_of_iterations < max_iterations:\n",
    "        a_changes = 0\n",
    "        #iterate over length of training set\n",
    "        for i in range(0, train_length-1):\n",
    "            #calculate the error with the current example\n",
    "            j = get_j(train_length, i)\n",
    "            xi = x[i,:]\n",
    "            xj = x[j,:]\n",
    "            w = calculate_w(a, x, y)\n",
    "            #error_i = calculate_error(a[i], xi, y[i], x, b, kernel)\n",
    "            error_i = new_calculate_error(w, xi, y[i], b)\n",
    "            if (((y[i] * error_i) < (tolerance * -1)) and (a[i] < C)) or (((y[i] * error_i) > tolerance) and (a[i] > 0)):               \n",
    "                a_j_old = a[j]\n",
    "                a_i_old = a[i]\n",
    "                L, H = calculate_constraints(C, a[i], a[j], y[i], y[j])\n",
    "                if L==H:\n",
    "                    continue                    \n",
    "                eta = calculate_eta(xi,xj, kernel)\n",
    "                if eta >= 0:\n",
    "                    continue\n",
    "                #error_j = calculate_error(a[j], xj, y[j], x, b, kernel)\n",
    "                error_j = new_calculate_error(w, xj, y[j], b)\n",
    "                a[j] = calculate_aj(a_j_old, y[j], error_i, error_j, eta, H, L)\n",
    "                print(a[j])\n",
    "                #if j change is miniscule do not need to update i\n",
    "                if abs(a[j] - a_j_old) < j_tol:\n",
    "                    continue\n",
    "                a[i] = calculate_ai(a_i_old, y[i], y[j], a_j_old, a[j])\n",
    "                if (a[i] > 0) and (a[i] < C):\n",
    "                    b = calculate_b1(b, error_i, y[i], a[i], a_i_old, xi, y[j], a[j], a_j_old, xj, kernel)\n",
    "                elif (a[j] > 0) and (a[j] < C):\n",
    "                    b = calculate_b2(b, error_j, y[i], a[i], a_i_old, xi, xj, y[j], a[j], a_j_old, kernel)\n",
    "                else:\n",
    "                    b1 = calculate_b1(b, error_i, y[i], a[i], a_i_old, xi, y[j], a[j], a_j_old, xj, kernel)\n",
    "                    b2 = calculate_b2(b, error_j, y[i], a[i], a_i_old, xi, xj, y[j], a[j], a_j_old, kernel)\n",
    "                    b = (b1 + b2) / 2\n",
    "                a_changes+=1\n",
    "        #if convergence (i.e. no changes to multipliers throughout entire iteration)\n",
    "        print(a_changes, number_of_iterations)\n",
    "        if a_changes == 0:\n",
    "            number_of_iterations+=1\n",
    "        else:\n",
    "            number_of_iterations=0\n",
    "        idx = np.where(a > 0)[0]\n",
    "        s_vec = x[idx,:]\n",
    "        w = calculate_w(a,x,y)\n",
    "    return a, b, s_vec,w"
   ]
  },
  {
   "cell_type": "code",
   "execution_count": 803,
   "id": "80021054-2220-46d6-9b44-e3e3d0f7e1a8",
   "metadata": {},
   "outputs": [
    {
     "ename": "SyntaxError",
     "evalue": "unexpected EOF while parsing (Temp/ipykernel_15984/2086004481.py, line 276)",
     "output_type": "error",
     "traceback": [
      "\u001b[1;36m  File \u001b[1;32m\"C:\\Users\\waffl\\AppData\\Local\\Temp/ipykernel_15984/2086004481.py\"\u001b[1;36m, line \u001b[1;32m276\u001b[0m\n\u001b[1;33m    \u001b[0m\n\u001b[1;37m    ^\u001b[0m\n\u001b[1;31mSyntaxError\u001b[0m\u001b[1;31m:\u001b[0m unexpected EOF while parsing\n"
     ]
    }
   ],
   "source": [
    "class extended_SMO:\n",
    "    def __init__(self, C = 1, tolerance = 0.01, max_iterations = 10, kernel = inner_kernel):\n",
    "        self.C = C\n",
    "        self.tolerance = tolerance\n",
    "        self.max_iterations = max_iterations\n",
    "        self.a = []\n",
    "        self.b = 0\n",
    "        self.b_low = 1\n",
    "        self.b_up = -1\n",
    "        self.i_low = -1\n",
    "        self.i_up = -1\n",
    "        self.kernel = kernel\n",
    "        self.I0 = set()\n",
    "        self.I1 = []\n",
    "        self.I2 = []\n",
    "        self.I3 = []\n",
    "        self.I4 = []\n",
    "        self.error_cache = None\n",
    "        self.j_tol = 0.000005        \n",
    "        self.support_vectors = []\n",
    "        self.labels = None\n",
    "        self.examples = None\n",
    "        return\n",
    "    \n",
    "    def plot(self):\n",
    "        for idx in self.support_vectors:\n",
    "            print(self.examples[idx])\n",
    "    \n",
    "    def linear(self, k, xk, x = self.examples, y = self.labels):\n",
    "        #iterate through support vector indices to reduce computational overload!\n",
    "        f = 0\n",
    "        for i in self.support_vectors:\n",
    "            f += self.a[i] * y[i] * self.kernel(xk,x[i])\n",
    "        return (f-self.b)\n",
    "    \n",
    "    def update_subset(self,subset, condition, k):\n",
    "        ak = self.a[k]\n",
    "        yk = self.labels[k]\n",
    "        if condition(ak, yk):\n",
    "            subset.append(k)\n",
    "        else:\n",
    "            try:\n",
    "                subset.remove(k)\n",
    "            except ValueError:\n",
    "                pass\n",
    "        return subset\n",
    "        \n",
    "    def calculate_threshold_error(self,idx, ai_new, ai, aj_new, aj, yi, yj, i, j):\n",
    "        n_e = self.examples[idx]\n",
    "        return yi*self.kernel(self.examples[i],n_e)*(ai_new - ai) + yj*self.kernel(self.examples[j],n_e)*(aj_new - aj)       \n",
    "    \n",
    "    def satisfyI0(self,ak, yk):\n",
    "        #I0 -> 0 < ai < C\n",
    "        return (0 < ak) and (ak < C)\n",
    "\n",
    "    def satisfyI1(self,ak, yk):\n",
    "        #I1 -> yk == 1 and ai == 0\n",
    "        return (yk==1) and (ak == 0)\n",
    "    \n",
    "    def satisfyI2(self,ak,yk):\n",
    "        return (yk==-1) and (ak==self.C)\n",
    "    \n",
    "    def satisfyI3(self,ak,yk):\n",
    "        return (yk==1) and (ak==self.C)\n",
    "    \n",
    "    def satisfyI4(self,ak,yk):\n",
    "        return (yk==-1) and (ak==self.C)\n",
    "\n",
    "    def take_step(self,i,j):\n",
    "        if i==j:\n",
    "            return False\n",
    "        ai = self.a[i]\n",
    "        aj = self.a[j]\n",
    "        yi = self.labels[i]\n",
    "        yj = self.labels[j]\n",
    "        xi = self.examples[i]\n",
    "        xj = self.examples[j]\n",
    "        fi = self.linear(i) + self.b - yi    \n",
    "        self.error_cache[i] = fi\n",
    "        fj = self.error_cache[j]\n",
    "        #print(f\"yi={yi} yj={yj} fi={fi} fj = {fj}\")\n",
    "        L, H = calculate_constraints(self.C, ai, aj, yi, yj)\n",
    "        #print(L,H)\n",
    "        if L==H:\n",
    "            return False\n",
    "        eta = calculate_eta(xi, xj , self.kernel)\n",
    "        if eta >= 0:\n",
    "            return False\n",
    "        #print(aj, yj, fi, fj, eta, H, L)\n",
    "        aj_new = calculate_aj(aj, yj, fi, fj, eta, H, L)\n",
    "        #check if error is within tolerance\n",
    "        #print(aj_new, aj)\n",
    "        if (abs(aj_new - aj) < self.j_tol):\n",
    "            return False\n",
    "        \n",
    "        ai_new = calculate_ai(ai, yi, yj, aj, aj_new)\n",
    "        #print(ai, \" -> \", ai_new, \" : \" , aj, \" -> \", aj_new)\n",
    "        #update error cache for every element In 0 NOT INCLUDING CURRENT MULTIPLIERS\n",
    "        for idx in self.I0:\n",
    "            if idx != j and idx != i:\n",
    "                self.error_cache[idx] += self.calculate_threshold_error(idx, ai_new, ai, aj_new, aj, yi, yj, i, j)\n",
    "        kii = self.kernel(xi,xi)\n",
    "        kij = self.kernel(xi,xi)\n",
    "        kjj = self.kernel(xj,xj)\n",
    "        #print(yi, kii, ai_new, ai, yj, kjj, aj_new, aj)\n",
    "        self.error_cache[i] += yi*kii*(ai_new - ai) + yj*kjj*(aj_new - aj)\n",
    "        self.error_cache[j] += yj*kjj*(aj_new - aj) + yi*kij*(ai_new - ai)\n",
    "                \n",
    "        if ai_new > 0:\n",
    "            self.support_vectors.append(i)\n",
    "        else:\n",
    "            try:\n",
    "                self.support_vectors.remove(i)\n",
    "            except ValueError:\n",
    "                pass\n",
    "        if aj_new > 0:\n",
    "            self.support_vectors.append(j)\n",
    "        else:\n",
    "            try:\n",
    "                self.support_vectors.remove(j)\n",
    "            except ValueError:\n",
    "                pass\n",
    "        self.a[i] = ai_new\n",
    "        self.a[j] = aj_new\n",
    "        #print(\"i = \", i, \" j= \", j)\n",
    "        #print(\"aiold : \", ai, \" ainew \", ai_new)\n",
    "        #update new errors to obtain best value for b_up and b_low\n",
    "        \n",
    "        for idx, k in enumerate([i,j]):\n",
    "            ak = self.a[k]\n",
    "            yk = self.labels[k]\n",
    "            \n",
    "            if self.satisfyI0(ak, yk):\n",
    "                self.I0.add(k)\n",
    "            else:\n",
    "                try:\n",
    "                    self.I0.remove(k)\n",
    "                except KeyError:\n",
    "                    pass\n",
    "            #self.I0 = self.update_subset(self.I0, self.satisfyI0, k)\n",
    "            self.I1 = self.update_subset(self.I1, self.satisfyI1, k)\n",
    "            self.I2 = self.update_subset(self.I2, self.satisfyI2, k)\n",
    "            self.I3 = self.update_subset(self.I3, self.satisfyI3, k)\n",
    "            self.I4 = self.update_subset(self.I4, self.satisfyI4, k)\n",
    "        #print(self.I0)\n",
    "        #iterate through values that satisfy I0 condition, both up and low work with i's in this subset\n",
    "        self.b_low = -100000\n",
    "        self.b_up = 100000\n",
    "        self.i_low = -1\n",
    "        self.i_up = -1\n",
    "        for idx in self.I0:\n",
    "            #calculate error\n",
    "            #fidx = self.calculate_fk(idx)\n",
    "            fidx = self.error_cache[idx]\n",
    "            if fidx < self.b_up:\n",
    "                self.b_up = fi\n",
    "                self.i_up = idx\n",
    "            if fidx > self.b_low:\n",
    "                self.b_low = fi\n",
    "                self.i_low = idx\n",
    "        #check other subsets within the union condition i.e. 3 and 4\n",
    "        for idx, k in enumerate([i,j]):\n",
    "            if not k in self.I0:\n",
    "                fk = self.error_cache[k]\n",
    "                if k in self.I3 or k in self.I4:\n",
    "                    if fk > self.b_low:\n",
    "                        self.b_low = fk\n",
    "                        self.i_low = k\n",
    "                else:\n",
    "                    if fk < self.b_up:\n",
    "                        self.b_up = fk\n",
    "                        self.i_up = k\n",
    "        return True\n",
    "                    \n",
    "                \n",
    "    def check_example(self,j):\n",
    "        #check example i for optimality\n",
    "        aj = self.a[j]\n",
    "        yj = self.labels[j]\n",
    "        fj = self.linear(j) + self.b - yj\n",
    "        self.error_cache[j] = fj\n",
    "        if (j in self.I1) or (j in self.I2) or (fj < self.b_up):\n",
    "            self.b_up = fj\n",
    "            self.i_up = j\n",
    "        elif (j in self.I3) or (j in self.I4) or (fj > self.b_low):\n",
    "            self.b_low = fj\n",
    "            self.i_low = j\n",
    "        \n",
    "        i = -1\n",
    "        cond_one = self.satisfyI0(aj, yj) or self.satisfyI1(aj, yj) or self.satisfyI2(aj, yj)\n",
    "        cond_two = self.satisfyI0(aj, yj) or self.satisfyI3(aj,yj) or self.satisfyI4(aj,yj)\n",
    "        #NOW CHECK FOR optimality based on error values\n",
    "        optimal = True\n",
    "        if cond_one:\n",
    "            if (self.b_low - fj) > (2 * self.tolerance):\n",
    "                optimal = False\n",
    "                i = self.i_low\n",
    "        if cond_two:\n",
    "            if (fj - self.b_up) > (2 * self.tolerance):\n",
    "                optimal = False\n",
    "                i = self.i_up\n",
    "        if optimal:\n",
    "            return False\n",
    "        \n",
    "        if j in self.I0:\n",
    "            if self.b_low - fj > fj - self.b_up:\n",
    "                i = self.i_low\n",
    "            else:\n",
    "                i = self.i_up\n",
    "        \n",
    "        if self.satisfyI0(aj, yj):\n",
    "            if ((self.b_low - fj)>(fj - self.b_up)):\n",
    "                i = self.i_low\n",
    "            else:\n",
    "                i = self.i_up\n",
    "        return self.take_step(i,j)      \n",
    "        \n",
    "    \n",
    "    def fit(self, train):        \n",
    "        self.examples, self.labels = split_frame(train)\n",
    "        #build up i1 and i4\n",
    "        train_length = len(train)\n",
    "        self.a = np.zeros(train_length)\n",
    "        self.error_cache = np.zeros(train_length)\n",
    "        for i in range(0, len(self.labels)):\n",
    "            if self.labels[i] == 1:\n",
    "                self.I1.append(i)\n",
    "                self.i_up = i\n",
    "            else:\n",
    "                self.I4.append(i)\n",
    "                self.i_low = i\n",
    "        self.error_cache[self.i_up] = -1\n",
    "        self.error_cache[self.i_low] = 1\n",
    "        a_changes = 0\n",
    "        e_all = True\n",
    "        while a_changes > 0 or e_all:\n",
    "            a_changes = 0\n",
    "            #initial loop\n",
    "            if e_all:\n",
    "                for i in range(0,train_length):\n",
    "                    #look at element i Examin element i\n",
    "                    #print(\"CHECKING EXAMPLE: \", i)\n",
    "                    changed = self.check_example(i)\n",
    "                    if changed:\n",
    "                        a_changes += 1\n",
    "            else:\n",
    "                #IF NOT INITIAL LOOP THEN THERE ARE NON-ZERO ALPHAS\n",
    "                #CAN IMPLEMENT KEERTHI MODIFICATION\n",
    "                #iterate through training set and check for non-zero elements\n",
    "                for i in range(0, train_length):\n",
    "                    if self.a[i] > 0 and self.a[i] < self.C:\n",
    "                        changed = self.check_example(i)\n",
    "                        if changed:\n",
    "                            a_changes += 1\n",
    "                    #CHECK FOR FIRST ELEMENT WHICH satisfies approximate\n",
    "                    #ENDING CONDITION\n",
    "                    if self.b_up > (self.b_low  - 2 * self.tolerance):\n",
    "                        a_changes = 0\n",
    "                        break\n",
    "            print(\"Number of changes: \" , a_changes, \" e_all: \",e_all)\n",
    "            print(self.b, self.b_up, self.b_low)\n",
    "            if e_all:\n",
    "                e_all = False\n",
    "            elif a_changes == 0:\n",
    "                e_all = True\n",
    "        print(self.support_vectors)\n",
    "\n",
    "        self.b = (self.b_up + self.b_low) / 2\n",
    "        \n",
    "    def predict(data):\n",
    "        x, y = split_frame(data)\n",
    "        predictions = []\n",
    "        for ex in x:\n",
    "            predictions.append(linear(ex, x, y\n",
    "            \n",
    "        "
   ]
  },
  {
   "cell_type": "code",
   "execution_count": 791,
   "id": "a0add938-989d-41f8-9517-219a3a083292",
   "metadata": {},
   "outputs": [],
   "source": [
    "#based on Keerthi et al's. modification to Platt's original SMO algorithm\n",
    "    #change centers around how the threshold (b) value is chosen in order to reduce ineffecient searching\n",
    "    #computes b_low and b_up from a series of i's which satisfy given conditions\n",
    "    #for the second value the indices will be picked such that i_low -> f(xi) = b_low\n",
    "    #checking for i's which violate condition just need to be evaluated as\n",
    "    #f(xi) < f(xi_low) - 2*tol\n",
    "    #where fi = sum over all m (j) (aj * yj * k(xj, xi) - yi\n",
    "    #finding an i which satisfies this condition means that the take step (i.e. compute L,H, eta, ai and ai_low)\n",
    "    #AFTER TAKE STEP -> compute i_low, b_low and i_up, b_up using only i's used in the step and i's wich satisfy the I0 conditions\n",
    "    #I0 -> all i's which satisfy -> 0 < a[i] < C\n",
    "    #I1 -> all i's which satisfy -> yi = 1 ai = 0\n",
    "    #I2 -> all i's which satisfy -> yi=-1 ai = C\n",
    "    #I3 -> all i's which satisfy -> yi = 1 ai = C\n",
    "    #I4 -> all i's which satisfy -> yi = -1 ai = 0\n",
    "    #USING SMO MODIFICATION 1\n",
    "    #MEANING THAT when examinall = 0 i.e. i are only in I0  Then utilize Platt's method\n",
    "    #by iterating over all i's, find one based on optimality if violated choose second i based on\n",
    "    #Fi1 < Fi_low - 2*tol which would mean that i2 = i_low\n",
    "    #MUST ALWAYS HAVE I_LOW AND I_UP computed"
   ]
  },
  {
   "cell_type": "code",
   "execution_count": 801,
   "id": "c6b0da4f-ca98-4a41-9c8d-9fb6fb90771f",
   "metadata": {
    "tags": []
   },
   "outputs": [
    {
     "name": "stdout",
     "output_type": "stream",
     "text": [
      "Number of changes:  10  e_all:  True\n",
      "0 5.503238079379813 7.780078073156503\n",
      "Number of changes:  5  e_all:  False\n",
      "0 7.7466089519466035 11.944159182721265\n",
      "Number of changes:  0  e_all:  False\n",
      "0 7.7466089519466035 7.7466089519466035\n",
      "Number of changes:  1  e_all:  True\n",
      "0 7.671663223739251 11.779036750616186\n",
      "Number of changes:  1  e_all:  False\n",
      "0 9.428112765484064 16.6226554777035\n",
      "Number of changes:  0  e_all:  False\n",
      "0 9.428112765484064 19.089899174774626\n",
      "Number of changes:  1  e_all:  True\n",
      "0 7.7007150211169115 11.84374133468328\n",
      "Number of changes:  0  e_all:  False\n",
      "0 7.7007150211169115 16.490624264302937\n",
      "Number of changes:  0  e_all:  True\n",
      "0 7.7007150211169115 11.84374133468328\n",
      "[17, 18, 124, 183, 270, 282, 394, 404, 869, 879, 0, 0, 11, 6, 124, 2799, 109, 124, 186, 1]\n",
      "[2.56419519 2.20294505]\n",
      "[4.10243233 3.09984095]\n",
      "[3.22398446 3.33664087]\n",
      "[2.91296383 3.10246909]\n",
      "[2.66507727 2.76873995]\n",
      "[4.10461631 2.72074051]\n",
      "[3.36314482 1.58249404]\n",
      "[3.93422022 2.58125871]\n",
      "[2.69592738 3.01592951]\n",
      "[3.81289868 2.84157716]\n",
      "[5.78264081 3.66077183]\n",
      "[5.78264081 3.66077183]\n",
      "[4.91963403 2.89746528]\n",
      "[4.76623151 2.4542785 ]\n",
      "[3.22398446 3.33664087]\n",
      "[2.10851428 2.12344016]\n",
      "[2.98323103 1.64423674]\n",
      "[3.22398446 3.33664087]\n",
      "[4.45651547 3.33843527]\n",
      "[4.55613226 3.12624243]\n"
     ]
    }
   ],
   "source": [
    "blobbys = pd.read_csv(\"blobs.csv\")\n",
    "del blobbys['Unnamed: 0']\n",
    "train, test = train_test_split(blobbys,test_size = 0.3)\n",
    "svm = extended_SMO()\n",
    "svm.fit(train)\n",
    "svm.predict(test)"
   ]
  },
  {
   "cell_type": "code",
   "execution_count": 574,
   "id": "fa3f32a4-2947-4ca5-9ab1-3db2b9e12bb7",
   "metadata": {},
   "outputs": [],
   "source": [
    "def predict(w,x_set,b):\n",
    "    predictions = [0 for i in range(0,len(x_set))]\n",
    "    for i in range(0, len(x_set)):\n",
    "        predictions[i] = linear(x_set[i], w, b)\n",
    "    return predictions"
   ]
  },
  {
   "cell_type": "code",
   "execution_count": 575,
   "id": "356b1c28-64de-4079-9439-faca8c3633da",
   "metadata": {},
   "outputs": [],
   "source": [
    "def score(predictions, labels):\n",
    "    t_c = 0\n",
    "    total = len(predictions)\n",
    "    for i in range(0, total):\n",
    "        if predictions[i] == labels[i]:\n",
    "            t_c+=1\n",
    "    return t_c/total"
   ]
  },
  {
   "cell_type": "code",
   "execution_count": 576,
   "id": "035562a9-0f13-4d45-85c5-46e3c09f7ca6",
   "metadata": {},
   "outputs": [],
   "source": [
    "kernels = [inner_kernel, linear_kernel, custom_kernel, gaussian_kernel]"
   ]
  },
  {
   "cell_type": "code",
   "execution_count": 577,
   "id": "9f7a4af2-84f3-4819-9584-79971d7cb2bd",
   "metadata": {},
   "outputs": [],
   "source": [
    "#parameters\n",
    "C = 0.1\n",
    "tolerance = 0.01\n",
    "max_iterations = 10"
   ]
  },
  {
   "cell_type": "code",
   "execution_count": 745,
   "id": "1ca88173-f7df-4d93-b25b-28bf7f0a0e32",
   "metadata": {},
   "outputs": [
    {
     "name": "stdout",
     "output_type": "stream",
     "text": [
      "0.1\n",
      "0.1\n",
      "0.1\n",
      "0.1\n",
      "0.0\n",
      "0.1\n",
      "0.1\n",
      "0.1\n",
      "0.1\n",
      "9 0\n",
      "0 0\n",
      "0.1\n",
      "0.1\n",
      "0.1\n",
      "0.1\n",
      "0.1\n",
      "0.1\n",
      "0.1\n",
      "7 1\n",
      "0.1\n",
      "0.1\n",
      "0.1\n",
      "0.1\n",
      "0.1\n",
      "5 0\n",
      "0 0\n",
      "0 1\n",
      "0 2\n",
      "0 3\n",
      "0 4\n",
      "0 5\n",
      "0 6\n",
      "0 7\n",
      "0 8\n",
      "0 9\n"
     ]
    }
   ],
   "source": [
    "blobby = pd.read_csv(\"blobs.csv\")\n",
    "del blobby[\"Unnamed: 0\"]\n",
    "train, test = train_test_split(blobby, test_size=0.3, random_state=42)\n",
    "a, b, s_vec, w = simplified_SMO(C, tolerance, max_iterations, train, gaussian_kernel)"
   ]
  },
  {
   "cell_type": "code",
   "execution_count": 581,
   "id": "df2eaf4d-8092-4ff5-a02c-986256b51224",
   "metadata": {},
   "outputs": [],
   "source": [
    "test_x, test_y = split_frame(test)"
   ]
  },
  {
   "cell_type": "code",
   "execution_count": 582,
   "id": "0e73438e-f538-4d76-8411-e260d8719dfc",
   "metadata": {},
   "outputs": [
    {
     "data": {
      "text/plain": [
       "1.0"
      ]
     },
     "execution_count": 582,
     "metadata": {},
     "output_type": "execute_result"
    }
   ],
   "source": [
    "blobby_predictions = predict(w, test_x, b)\n",
    "score(blobby_predictions, test_y)"
   ]
  },
  {
   "cell_type": "code",
   "execution_count": 392,
   "id": "76d1f33f-23c7-4896-ae2f-04bceb7f9ef2",
   "metadata": {},
   "outputs": [
    {
     "data": {
      "text/plain": [
       "array([1.99727937, 4.91706468, 4.30210045, ..., 4.95634604, 4.8222607 ,\n",
       "       4.71838251])"
      ]
     },
     "execution_count": 392,
     "metadata": {},
     "output_type": "execute_result"
    }
   ],
   "source": [
    "s_vec[:,0]"
   ]
  },
  {
   "cell_type": "code",
   "execution_count": 393,
   "id": "a2c82048-07e0-4b4c-a36c-7edcedffbce2",
   "metadata": {},
   "outputs": [
    {
     "data": {
      "image/png": "[encoded data removed]",
      "text/plain": [
       "<Figure size 432x288 with 1 Axes>"
      ]
     },
     "metadata": {
      "needs_background": "light"
     },
     "output_type": "display_data"
    }
   ],
   "source": [
    "#plotting time\n",
    "plt.scatter(blobs_set[\"0\"], blobs_set[\"1\"])\n",
    "plt.scatter(s_vec[:,0],s_vec[:,1], c=\"c\")\n",
    "xx = np.linspace(0,7)\n",
    "yy = (-w[0] / w[1]) * xx - b / w[1]\n",
    "plt.plot(xx, yy)\n",
    "plt.show()"
   ]
  },
  {
   "cell_type": "code",
   "execution_count": 307,
   "id": "95945104-b9cc-4070-bf3c-da6cfdb1475e",
   "metadata": {},
   "outputs": [],
   "source": [
    "spirals = pd.read_csv(\"spirals.csv\")\n",
    "del spirals[\"Unnamed: 0\"]\n",
    "train, test = train_test_split(spirals, test_size=0.3, random_state=42)\n",
    "a, b, s_vec, w = simplified_SMO(C, tolerance, max_iterations, train, test_k)"
   ]
  },
  {
   "cell_type": "code",
   "execution_count": 308,
   "id": "e1c71dac-7483-4cc2-aaf0-a89761eb5552",
   "metadata": {},
   "outputs": [
    {
     "data": {
      "image/png": "[encoded data removed]",
      "text/plain": [
       "<Figure size 432x288 with 1 Axes>"
      ]
     },
     "metadata": {
      "needs_background": "light"
     },
     "output_type": "display_data"
    }
   ],
   "source": [
    "#plotting time\n",
    "plt.scatter(spirals[\"x\"], spirals[\"y\"])\n",
    "xx = np.linspace(-2,2)\n",
    "yy = (-w[0] / w[1]) * xx - b / w[1]\n",
    "plt.plot(xx, yy)\n",
    "plt.show()"
   ]
  },
  {
   "cell_type": "code",
   "execution_count": 309,
   "id": "352bdb12-5031-4482-9591-abb293b23e7f",
   "metadata": {},
   "outputs": [],
   "source": [
    "test_x, test_y = split_frame(test)"
   ]
  },
  {
   "cell_type": "code",
   "execution_count": 310,
   "id": "a841876d-ba9f-40eb-bdd7-786c7507ac91",
   "metadata": {},
   "outputs": [],
   "source": [
    "predictions = predict(w, test_x, b)"
   ]
  },
  {
   "cell_type": "code",
   "execution_count": 311,
   "id": "32e2e1b5-13fa-47a4-9a9b-ec3c002f59dc",
   "metadata": {},
   "outputs": [],
   "source": [
    "t_c = 0\n",
    "tot = len(predictions)\n",
    "for i in range(0,tot):\n",
    "    if(predictions[i] == test_y[i]):\n",
    "        t_c+=1\n"
   ]
  },
  {
   "cell_type": "code",
   "execution_count": 313,
   "id": "843da194-bedd-4d36-a0ea-2a3a7ca08f1b",
   "metadata": {},
   "outputs": [
    {
     "data": {
      "text/plain": [
       "0.54"
      ]
     },
     "execution_count": 313,
     "metadata": {},
     "output_type": "execute_result"
    }
   ],
   "source": [
    "t_c/ tot\n"
   ]
  },
  {
   "cell_type": "code",
   "execution_count": 643,
   "id": "e696c6de-e853-41e6-9857-6c7ee5ddcdb7",
   "metadata": {},
   "outputs": [
    {
     "name": "stdout",
     "output_type": "stream",
     "text": [
      "2\n",
      "64\n"
     ]
    }
   ],
   "source": [
    "i = 2\n",
    "j = 64\n",
    "for idx, k in enumerate([i,j]):\n",
    "    print(k)"
   ]
  },
  {
   "cell_type": "code",
   "execution_count": 552,
   "id": "06c7d730-7e41-4fa1-adbb-a7745779bf36",
   "metadata": {},
   "outputs": [],
   "source": [
    "def k_cross_validation(k, dataset, parameter_tuning = 1, C = 1, tolerance = 0.001, max_iterations = 100, kernel = inner_kernel, start = 0):\n",
    "    #split into train test\n",
    "    train, test = train_test_split(dataset, test_size = 0.3, shuffle=False)\n",
    "    #now partition training set into k subsets\n",
    "    partition_len = len(train) / k\n",
    "    #partitions by indicies\n",
    "    #[0,partition_len, 2 * partition_len,..., len(train)]\n",
    "    partition_indicies = [int(i*partition_len) for i in range(0, k)]\n",
    "    partition_indicies.append(len(train)+1)\n",
    "    print(partition_indicies)\n",
    "    #iterate through k select i to i+1\n",
    "    accuracies = []\n",
    "    best_w = None\n",
    "    best_sv = None\n",
    "    best_a = None\n",
    "    best_b = None\n",
    "    best_c = None\n",
    "    best_accuracy = -1\n",
    "    for i in range(0,k):\n",
    "        starting_val = partition_indicies[i] + start\n",
    "        ending_val = partition_indicies[i+1] + start\n",
    "        validation = train.loc[starting_val:ending_val-1,:]\n",
    "        a = train.loc[:starting_val,:]\n",
    "        b = train.loc[ending_val-1:,:]\n",
    "        training = pd.concat([a,b])\n",
    "        v_x, v_y = split_frame(validation)\n",
    "        #fit model to training set\n",
    "        a, b, s_vec, w = simplified_SMO(C, tolerance, max_iterations, training, kernel)\n",
    "        #test and score using validation set\n",
    "        predictions = predict(w, v_x, b)\n",
    "        accuracy = score(predictions, v_y)\n",
    "        if accuracy > best_accuracy:\n",
    "            best_w = w\n",
    "            best_sv = s_vec\n",
    "            best_a = a\n",
    "            best_b = b\n",
    "            best_c = C\n",
    "        print(f\"ACCURACY FOR C {C} = {accuracy}\")\n",
    "        C+=parameter_tuning\n",
    "        accuracies.append(accuracy)\n",
    "    a, b, s_vec, w = simplified_SMO(best_c, tolerance, max_iterations, train, kernel)\n",
    "    test_x, test_y = split_frame(test)\n",
    "    predictions = predict(w, test_x, b)\n",
    "    test_acc = score(predictions, test_y)\n",
    "    print(f\"test accuracy: {test_acc}\")"
   ]
  },
  {
   "cell_type": "code",
   "execution_count": 468,
   "id": "ca1dd8c4-facf-4d45-8ac5-d918ac621813",
   "metadata": {},
   "outputs": [
    {
     "name": "stdout",
     "output_type": "stream",
     "text": [
      "ACCURACY FOR C 1 = 1.0\n",
      "ACCURACY FOR C 1 = 1.0\n",
      "ACCURACY FOR C 1 = 1.0\n",
      "ACCURACY FOR C 1 = 0.9978540772532188\n",
      "ACCURACY FOR C 1 = 1.0\n",
      "ACCURACY FOR C 1 = 1.0\n"
     ]
    }
   ],
   "source": [
    "bloba = pd.read_csv(\"blobs.csv\")\n",
    "del bloba[\"Unnamed: 0\"]\n",
    "k_cross_validation(6, bloba)"
   ]
  },
  {
   "cell_type": "code",
   "execution_count": 531,
   "id": "d9a453da-2271-4779-87cb-7d1a8c3cc957",
   "metadata": {},
   "outputs": [
    {
     "name": "stdout",
     "output_type": "stream",
     "text": [
      "ACCURACY FOR C 1 = 0.6714285714285714\n",
      "ACCURACY FOR C 2 = 0.29285714285714287\n",
      "ACCURACY FOR C 3 = 0.2785714285714286\n",
      "ACCURACY FOR C 4 = 0.3142857142857143\n",
      "ACCURACY FOR C 5 = 0.25\n",
      "test accuracy: 0.44\n"
     ]
    }
   ],
   "source": [
    "spira = pd.read_csv(\"spirals.csv\")\n",
    "del spira[\"Unnamed: 0\"]\n",
    "k_cross_validation(5, spira)"
   ]
  },
  {
   "cell_type": "code",
   "execution_count": 474,
   "id": "66750f76-de30-4da6-abf9-5b91f096a920",
   "metadata": {},
   "outputs": [
    {
     "name": "stdout",
     "output_type": "stream",
     "text": [
      "ACCURACY FOR C 10 = 0.65\n",
      "ACCURACY FOR C 9 = 0.29285714285714287\n",
      "ACCURACY FOR C 8 = 0.24285714285714285\n",
      "ACCURACY FOR C 7 = 0.17142857142857143\n",
      "ACCURACY FOR C 6 = 0.2\n"
     ]
    }
   ],
   "source": [
    "spira = pd.read_csv(\"spirals.csv\")\n",
    "del spira[\"Unnamed: 0\"]\n",
    "k_cross_validation(5, spira, parameter_tuning = -1, C= 10)"
   ]
  },
  {
   "cell_type": "code",
   "execution_count": 530,
   "id": "8823adb5-9a4c-45e4-98f3-37e1ce87c5a6",
   "metadata": {},
   "outputs": [
    {
     "name": "stdout",
     "output_type": "stream",
     "text": [
      "ACCURACY FOR C 0.01 = 0.9850746268656716\n",
      "ACCURACY FOR C 1.01 = 1.0\n",
      "ACCURACY FOR C 2.01 = 1.0\n",
      "ACCURACY FOR C 3.01 = 1.0\n",
      "ACCURACY FOR C 4.01 = 0.0\n",
      "test accuracy: 0.0\n"
     ]
    }
   ],
   "source": [
    "#TIC TAC TOE DATASET\n",
    "f_names = [\"top left\",\"top mid\",\"top right\",\"mid left\",\"mid mid\",\"mid right\",\"bot left\",\"bot mid\",\"bot right\",\"class\"]\n",
    "ttt = pd.read_csv(\"https://archive.ics.uci.edu/ml/machine-learning-databases/tic-tac-toe/tic-tac-toe.data\", names = f_names)\n",
    "#apply label encoder to get workable values\n",
    "ttt = ttt.apply(LabelEncoder().fit_transform)\n",
    "accuracies = k_cross_validation(5, ttt, parameter_tuning = 1, C=0.01)\n"
   ]
  },
  {
   "cell_type": "code",
   "execution_count": null,
   "id": "369568c7-d154-4133-a278-53876a7133b7",
   "metadata": {},
   "outputs": [],
   "source": []
  },
  {
   "cell_type": "code",
   "execution_count": 533,
   "id": "355d7061-e837-4ccd-be14-9514016a5bf2",
   "metadata": {},
   "outputs": [
    {
     "name": "stdout",
     "output_type": "stream",
     "text": [
      "ACCURACY FOR C 0.05 = 0.2571428571428571\n",
      "ACCURACY FOR C 0.15000000000000002 = 0.7785714285714286\n",
      "ACCURACY FOR C 0.25 = 0.22857142857142856\n",
      "ACCURACY FOR C 0.35 = 0.17142857142857143\n",
      "ACCURACY FOR C 0.44999999999999996 = 0.24285714285714285\n",
      "test accuracy: 0.760797342192691\n"
     ]
    }
   ],
   "source": [
    "f_names = ['age','workclass','fnlwgt','education','education-num','marital-status','occupation','relationship','race','sex','capital-gain','capital-loss','hours-per-week','native-country','class']\n",
    "adult = pd.read_csv('https://archive.ics.uci.edu/ml/machine-learning-databases/adult/adult.data', names = f_names)\n",
    "adult = adult.loc[0:1000,:]\n",
    "adult_discretized = adult.apply(LabelEncoder().fit_transform)\n",
    "k_cross_validation(5, adult_discretized, tolerance = 0.1, C=0.05, parameter_tuning=0.1)"
   ]
  },
  {
   "cell_type": "code",
   "execution_count": null,
   "id": "95bf2d3f-de97-47a7-be8e-dbe72c91d54d",
   "metadata": {},
   "outputs": [
    {
     "name": "stdout",
     "output_type": "stream",
     "text": [
      "[0, 466, 933, 1401]\n",
      "ACCURACY FOR C 0.5 = 0.27467811158798283\n",
      "ACCURACY FOR C 1.0 = 0.734475374732334\n",
      "ACCURACY FOR C 1.5 = 0.734475374732334\n",
      "test accuracy: 0.7737104825291181\n"
     ]
    }
   ],
   "source": [
    "f_names = ['age','workclass','fnlwgt','education','education-num','marital-status','occupation','relationship','race','sex','capital-gain','capital-loss','hours-per-week','native-country','class']\n",
    "adult = pd.read_csv('https://archive.ics.uci.edu/ml/machine-learning-databases/adult/adult.data', names = f_names)\n",
    "adult = adult.loc[1000:3000,:]\n",
    "start = 1000\n",
    "adult_discretized = adult.apply(LabelEncoder().fit_transform)\n",
    "k_cross_validation(3, adult_discretized, tolerance = 0.01, C=0.5, parameter_tuning=0.5, start = start, kernel=gaussian_kernel)"
   ]
  },
  {
   "cell_type": "markdown",
   "id": "107fb191-8bd7-4503-b332-abcfa6cd8705",
   "metadata": {},
   "source": [
    "Testing for the adult SVM, gaussian with C = 1 works best!"
   ]
  },
  {
   "cell_type": "code",
   "execution_count": null,
   "id": "909944ed-0f0b-494c-ab42-0899fb898114",
   "metadata": {},
   "outputs": [],
   "source": []
  }
 ],
 "metadata": {
  "kernelspec": {
   "display_name": "Python 3 (ipykernel)",
   "language": "python",
   "name": "python3"
  },
  "language_info": {
   "codemirror_mode": {
    "name": "ipython",
    "version": 3
   },
   "file_extension": ".py",
   "mimetype": "text/x-python",
   "name": "python",
   "nbconvert_exporter": "python",
   "pygments_lexer": "ipython3",
   "version": "3.9.7"
  }
 },
 "nbformat": 4,
 "nbformat_minor": 5
}

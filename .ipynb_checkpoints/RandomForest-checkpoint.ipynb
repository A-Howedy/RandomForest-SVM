{
 "cells": [
  {
   "cell_type": "code",
   "execution_count": 10,
   "id": "ba42a9eb-cb87-4d78-abdc-e28887024093",
   "metadata": {},
   "outputs": [],
   "source": [
    "import pandas as pd\n",
    "import numpy as pn\n",
    "from random import randrange"
   ]
  },
  {
   "cell_type": "code",
   "execution_count": 11,
   "id": "0009f1ce-0b7f-4014-afc7-f3a1af71e8a1",
   "metadata": {},
   "outputs": [],
   "source": [
    "def gini_index_numerical(above_split, below_split):\n",
    "    total_above = above_split.sum()\n",
    "    total_below = below_split.sum()\n",
    "    total = total_above + total_below\n",
    "    #for each class calculate the individual index\n",
    "    above_index = 0\n",
    "    below_index = 0\n",
    "    for i in range(0, len(above_split)):\n",
    "        #div / zero\n",
    "        p_above = above_split[i] / total_above if total_above else 0\n",
    "        p_below = below_split[i] / total_below if total_below else 0\n",
    "        above_index += (p_above * p_above)\n",
    "        below_index += (p_below * p_below)\n",
    "    above_index = 1 - above_index\n",
    "    below_index = 1 - below_index\n",
    "    return (above_index * (total_above / total)) + (below_index * (total_below / total))"
   ]
  },
  {
   "cell_type": "markdown",
   "id": "6d063a0e-cc46-45be-b490-2113e1a684a6",
   "metadata": {},
   "source": [
    "gini_index_numerical takes in two n-d numpy arrays where n represents the number of potential classes. The above_split array represents all of the points located numerically above the split point and the below_split array represents the points with a lesser value."
   ]
  },
  {
   "cell_type": "code",
   "execution_count": 19,
   "id": "fc969034-a82d-4113-b8d0-fb86c3f71aef",
   "metadata": {},
   "outputs": [],
   "source": [
    "class Node:\n",
    "    def __init__(self, splitting_attribute, splitting_point):\n",
    "        self.splitting_attribute = splitting_attribute\n",
    "        self.splitting_point = splitting_point\n",
    "        #TODO change to k for k classes?\n",
    "        self.children = np.zeros(2)\n",
    "    \n",
    "    def new_child_node(self, child_index, child):\n",
    "        self.children[child_index] = child        \n",
    "    \n",
    "    def predict(self, point):\n",
    "        val = point[self.splitting_attribute]\n",
    "        if val >= splitting_point:\n",
    "            return self.children[0]\n",
    "        else:\n",
    "            return self.children[1]"
   ]
  },
  {
   "cell_type": "markdown",
   "id": "d3403c09-2406-4546-94fb-f23d4314bf9e",
   "metadata": {},
   "source": [
    "The Node class represents each node within the tree. The splitting attribute and point determines the axis and value the node splits on. The above and below values represent the next node or label based on the splitting point."
   ]
  },
  {
   "cell_type": "code",
   "execution_count": 20,
   "id": "95d82d6b-a928-412f-bbc4-88547a31d9a0",
   "metadata": {},
   "outputs": [],
   "source": [
    "def find_best_split(examples, calculate_purity):\n",
    "    #given a dataframe -> examples find the best splitting value within based\n",
    "    #on the given purity calculation\n",
    "    #for row in examples\n",
    "        #for attribute in row\n",
    "            #value = row[attribute]\n",
    "            #split = split(value, examples)\n",
    "            #purity = calculate_purity(split)\n",
    "            #if purity better than best purity is best\n",
    "    #TODO OPTIMIZE THIS\n",
    "    attributes = ['0','1']\n",
    "    best_purity = 2\n",
    "    best_node = None\n",
    "    for index, row in examples.iterrows():\n",
    "        for val in attributes:\n",
    "            #split dataframe into 2 dataframes\n",
    "            above_split, below_split = split(row[val], examples)\n",
    "            purity = calculate_purity(above_split, below_split)\n",
    "            if purity < best_purity:\n",
    "                best_purity = purity\n",
    "                #create new node based on best attribute and value\n",
    "                best_node = Node(val, row[val])\n",
    "    return best_node\n",
    "        "
   ]
  },
  {
   "cell_type": "code",
   "execution_count": 17,
   "id": "c855b368-2d5a-4293-bccc-408a035fc165",
   "metadata": {},
   "outputs": [],
   "source": [
    "def most_common_class(examples):\n",
    "    classes = examples['class'].value_counts()\n",
    "    return classes.idxmax()"
   ]
  },
  {
   "cell_type": "code",
   "execution_count": 18,
   "id": "2f4f2b24-61fb-4665-b1eb-4aa809bc151d",
   "metadata": {},
   "outputs": [],
   "source": [
    "def learn_tree(examples, parent_examples, depth, max_depth, calculate_purity):\n",
    "    #work with ending conditions, if no more examples left then return most common class in parent examples\n",
    "    if not examples:\n",
    "        return most_common_class(parent_examples)\n",
    "    elif (number_of_classes_in_sample == 1) or (depth >= max_depth):\n",
    "        return most_common_class(examples)\n",
    "    else:\n",
    "        #find the best split possible within the current split points\n",
    "        #splits[] = [above, below]\n",
    "        best_split_point, splits = find_best_split(examples, calculate_purity)\n",
    "        root_node = Node(best_split_point)\n",
    "        for i in range(splits):\n",
    "            #above and below calculations\n",
    "            #split should consist of a subset of examples\n",
    "            new_node = learn_tree(split,examples,depth-1,max_depth)\n",
    "            root_node.new_child(i,new_node)\n",
    "        return root_node"
   ]
  },
  {
   "cell_type": "code",
   "execution_count": null,
   "id": "b4abdb2e-efec-4452-8616-891427844cea",
   "metadata": {},
   "outputs": [],
   "source": []
  }
 ],
 "metadata": {
  "kernelspec": {
   "display_name": "Python 3 (ipykernel)",
   "language": "python",
   "name": "python3"
  },
  "language_info": {
   "codemirror_mode": {
    "name": "ipython",
    "version": 3
   },
   "file_extension": ".py",
   "mimetype": "text/x-python",
   "name": "python",
   "nbconvert_exporter": "python",
   "pygments_lexer": "ipython3",
   "version": "3.9.7"
  }
 },
 "nbformat": 4,
 "nbformat_minor": 5
}

{
 "cells": [
  {
   "cell_type": "code",
   "execution_count": 10,
   "id": "ba42a9eb-cb87-4d78-abdc-e28887024093",
   "metadata": {},
   "outputs": [],
   "source": [
    "import pandas as pd\n",
    "import numpy as pn\n",
    "from random import randrange"
   ]
  },
  {
   "cell_type": "code",
   "execution_count": 11,
   "id": "0009f1ce-0b7f-4014-afc7-f3a1af71e8a1",
   "metadata": {},
   "outputs": [],
   "source": [
    "def gini_index_numerical(above_split, below_split):\n",
    "    total_above = above_split.sum()\n",
    "    total_below = below_split.sum()\n",
    "    total = total_above + total_below\n",
    "    #for each class calculate the individual index\n",
    "    above_index = 0\n",
    "    below_index = 0\n",
    "    for i in range(0, len(above_split)):\n",
    "        #div / zero\n",
    "        p_above = above_split[i] / total_above if total_above else 0\n",
    "        p_below = below_split[i] / total_below if total_below else 0\n",
    "        above_index += (p_above * p_above)\n",
    "        below_index += (p_below * p_below)\n",
    "    above_index = 1 - above_index\n",
    "    below_index = 1 - below_index\n",
    "    return (above_index * (total_above / total)) + (below_index * (total_below / total))"
   ]
  },
  {
   "cell_type": "markdown",
   "id": "6d063a0e-cc46-45be-b490-2113e1a684a6",
   "metadata": {},
   "source": [
    "gini_index_numerical takes in two n-d numpy arrays where n represents the number of potential classes. The above_split array represents all of the points located numerically above the split point and the below_split array represents the points with a lesser value."
   ]
  },
  {
   "cell_type": "code",
   "execution_count": 13,
   "id": "fc969034-a82d-4113-b8d0-fb86c3f71aef",
   "metadata": {},
   "outputs": [],
   "source": [
    "class Node:\n",
    "    def __init__(self, splitting_attribute, splitting_point, above, below):\n",
    "        self.splitting_attribute = splitting_attribute\n",
    "        self.splitting_point = splitting_point\n",
    "        self.above = above\n",
    "        self.below = below\n",
    "    \n",
    "    def predict(self, point):\n",
    "        val = point[self.splitting_attribute]\n",
    "        if val >= splitting_point:\n",
    "            return above\n",
    "        else:\n",
    "            return below"
   ]
  },
  {
   "cell_type": "markdown",
   "id": "d3403c09-2406-4546-94fb-f23d4314bf9e",
   "metadata": {},
   "source": []
  }
 ],
 "metadata": {
  "kernelspec": {
   "display_name": "Python 3 (ipykernel)",
   "language": "python",
   "name": "python3"
  },
  "language_info": {
   "codemirror_mode": {
    "name": "ipython",
    "version": 3
   },
   "file_extension": ".py",
   "mimetype": "text/x-python",
   "name": "python",
   "nbconvert_exporter": "python",
   "pygments_lexer": "ipython3",
   "version": "3.9.7"
  }
 },
 "nbformat": 4,
 "nbformat_minor": 5
}

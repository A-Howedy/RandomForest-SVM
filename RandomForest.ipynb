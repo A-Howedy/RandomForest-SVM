{
 "cells": [
  {
   "cell_type": "code",
   "execution_count": 83,
   "id": "ba42a9eb-cb87-4d78-abdc-e28887024093",
   "metadata": {},
   "outputs": [],
   "source": [
    "import pandas as pd\n",
    "import numpy as np\n",
    "from random import randrange\n",
    "from math import log2"
   ]
  },
  {
   "cell_type": "code",
   "execution_count": 81,
   "id": "0009f1ce-0b7f-4014-afc7-f3a1af71e8a1",
   "metadata": {},
   "outputs": [],
   "source": [
    "def gini_index_numerical(above_split, below_split, attribute):\n",
    "    #UPDATING NOW INPUTS ARE DATAFRAMES\n",
    "    total_above = len(above_split)\n",
    "    total_below = len(below_split)\n",
    "    total = total_above + total_below\n",
    "    #for each class calculate the individual index\n",
    "    above_index = 0\n",
    "    below_index = 0\n",
    "    #probability point is above\n",
    "    #TODO OPTIMIZE\n",
    "    labels = ['0','1']\n",
    "    above_count = above_split['class'].value_counts()\n",
    "    below_count = below_split['class'].value_counts()\n",
    "    for i in range(0,len(labels)):\n",
    "        #check for empty frames\n",
    "        try:\n",
    "            p_above = 0 if above_split.empty else above_count[i] / total_above\n",
    "        except KeyError:\n",
    "            p_above = 0\n",
    "        try:\n",
    "            p_below = 0 if below_split.empty else below_count[i] / total_below\n",
    "        except KeyError:\n",
    "            p_below = 0\n",
    "        above_index += (p_above * p_above)\n",
    "        below_index += (p_below * p_below)\n",
    "    above_index = 1 - above_index\n",
    "    below_index = 1 - below_index\n",
    "    return (above_index * (total_above / total)) + (below_index * (total_below / total))"
   ]
  },
  {
   "cell_type": "markdown",
   "id": "6d063a0e-cc46-45be-b490-2113e1a684a6",
   "metadata": {},
   "source": [
    "gini_index_numerical takes in two n-d numpy arrays where n represents the number of potential classes. The above_split array represents all of the points located numerically above the split point and the below_split array represents the points with a lesser value."
   ]
  },
  {
   "cell_type": "code",
   "execution_count": 91,
   "id": "dac1e757-2755-4035-a4d8-71db4d34d758",
   "metadata": {},
   "outputs": [],
   "source": [
    "def entropy_calculation(splits, labels, total_in_set):\n",
    "    #calculate the total entropy by calculating the probabilities\n",
    "    entropy_before_split = 0\n",
    "    for label in range(0, len(labels)):\n",
    "        entropy_before_split += labels[label] / total_in_set\n",
    "    entropy = 0\n",
    "    for split in splits:\n",
    "        #for each split calculate the entropy for the given label set\n",
    "        split_entropy = 0\n",
    "        total_in_split = len(split)\n",
    "        label_count = split['class'].value_counts()\n",
    "        for label in range(0,len(labels)):\n",
    "            #calculating entropy\n",
    "            #need to get the values for each label within the split\n",
    "            #i.e. if split A has 15 values, 4 are class 0: 5 are class 1 and 6 are class 2\n",
    "            #class 0 would have 4/15 * log2(4/15)\n",
    "            try:\n",
    "                label_dist = 0 if split.empty else label_count[label] / total_in_split\n",
    "            except KeyError:\n",
    "                label_dist = 0\n",
    "            split_entropy = split_entropy if label_dist == 0 else (split_entropy + (label_dist * log2(label_dist)))\n",
    "            #split_entropy += (label_dist * log2(label_dist))\n",
    "        entropy += split_entropy\n",
    "    entropy = (-1)*(entropy)\n",
    "    return entropy\n",
    "        "
   ]
  },
  {
   "cell_type": "code",
   "execution_count": 82,
   "id": "4c378307-29ea-4012-a892-f537da2fe30c",
   "metadata": {},
   "outputs": [],
   "source": [
    "def gini_index_multiclass(splits, labels, total_in_set):\n",
    "    #calculate for each potential class\n",
    "    g_index = 0\n",
    "    for split in splits:\n",
    "        split_index = 0\n",
    "        label_count = split['class'].value_counts()\n",
    "        total_in_split = len(split)\n",
    "        #for label in labels:\n",
    "        for label in range(0,len(labels)):\n",
    "            try:\n",
    "                p_split = 0 if split.empty else (label_count[label] / total_in_split)\n",
    "            except KeyError:\n",
    "                p_split = 0\n",
    "            split_index += (p_split * p_split)\n",
    "        split_index = 1-split_index\n",
    "        g_index += (split_index * (total_in_split / total_in_set))\n",
    "    return g_index    "
   ]
  },
  {
   "cell_type": "markdown",
   "id": "c3d4f2b9-cc89-4e83-bd23-c743a02579b4",
   "metadata": {},
   "source": [
    "The gini_index_multiclass function takes in the splits, the attribute the set was split on, and the potential labels. The potential features should be defined as [0,1,...n-1] where n is the total number of features within the set. Possible feature values could depend on dataset (is pixel on or off, position of pixel, "
   ]
  },
  {
   "cell_type": "code",
   "execution_count": 3,
   "id": "fc969034-a82d-4113-b8d0-fb86c3f71aef",
   "metadata": {},
   "outputs": [],
   "source": [
    "class Node:\n",
    "    def __init__(self, splitting_attribute, splitting_point):\n",
    "        self.splitting_attribute = splitting_attribute\n",
    "        self.splitting_point = splitting_point\n",
    "        #TODO change to k for k classes?\n",
    "        self.children = np.zeros(2)\n",
    "    \n",
    "    def new_child_node(self, child_index, child):\n",
    "        self.children[child_index] = child        \n",
    "    \n",
    "    def predict(self, point):\n",
    "        val = point[self.splitting_attribute]\n",
    "        self.splitting_point\n",
    "        if val >= self.splitting_point:\n",
    "            return self.children[0]\n",
    "        else:\n",
    "            return self.children[1]"
   ]
  },
  {
   "cell_type": "markdown",
   "id": "d3403c09-2406-4546-94fb-f23d4314bf9e",
   "metadata": {},
   "source": [
    "The Node class represents each node within the tree. The splitting attribute and point determines the axis and value the node splits on. The above and below values represent the next node or label based on the splitting point."
   ]
  },
  {
   "cell_type": "code",
   "execution_count": 4,
   "id": "b4abdb2e-efec-4452-8616-891427844cea",
   "metadata": {},
   "outputs": [],
   "source": [
    "def split(value, attribute, examples):\n",
    "    #split where item in row > or < value\n",
    "    above_values = examples.loc[examples[attribute] >= value]\n",
    "    below_values = examples.loc[examples[attribute] < value]\n",
    "    return above_values, below_values\n",
    "    "
   ]
  },
  {
   "cell_type": "code",
   "execution_count": 86,
   "id": "95d82d6b-a928-412f-bbc4-88547a31d9a0",
   "metadata": {},
   "outputs": [],
   "source": [
    "def find_best_split(examples, calculate_purity):\n",
    "    #given a dataframe -> examples find the best splitting value within based\n",
    "    #on the given purity calculation\n",
    "    #for row in examples\n",
    "        #for attribute in row\n",
    "            #value = row[attribute]\n",
    "            #split = split(value, examples)\n",
    "            #purity = calculate_purity(split)\n",
    "            #if purity better than best purity is best\n",
    "    #TODO OPTIMIZE THIS\n",
    "    attributes = ['0','1']\n",
    "    best_purity = 2\n",
    "    best_node = None\n",
    "    best_splits = []\n",
    "    for index, row in examples.iterrows():\n",
    "        for val in attributes:\n",
    "            #split dataframe into 2 dataframes\n",
    "            above_split, below_split = split(row[val], val, examples)\n",
    "            #purity = calculate_purity(above_split, below_split, val)\n",
    "            purity = calculate_purity([above_split, below_split], examples['class'].value_counts(), len(examples))\n",
    "            if purity < best_purity:\n",
    "                best_purity = purity\n",
    "                #create new node based on best attribute and value\n",
    "                best_node = Node(val, row[val])\n",
    "                best_splits = [above_split, below_split]\n",
    "    return best_node, best_splits\n",
    "        "
   ]
  },
  {
   "cell_type": "code",
   "execution_count": 6,
   "id": "c855b368-2d5a-4293-bccc-408a035fc165",
   "metadata": {},
   "outputs": [],
   "source": [
    "def most_common_class(examples):\n",
    "    classes = examples['class'].value_counts()\n",
    "    return classes.idxmax()"
   ]
  },
  {
   "cell_type": "code",
   "execution_count": 7,
   "id": "d523ad33-9cf0-424a-8be7-1aa1770232a2",
   "metadata": {},
   "outputs": [],
   "source": [
    "def number_of_classes_in_samples(examples):\n",
    "        return len(examples['class'].value_counts())"
   ]
  },
  {
   "cell_type": "code",
   "execution_count": 8,
   "id": "2f4f2b24-61fb-4665-b1eb-4aa809bc151d",
   "metadata": {},
   "outputs": [],
   "source": [
    "def learn_tree(examples, parent_examples, depth, max_depth, calculate_purity):\n",
    "    #work with ending conditions, if no more examples left then return most common class in parent examples\n",
    "    if examples.empty:\n",
    "        return most_common_class(parent_examples)\n",
    "    elif (number_of_classes_in_samples(examples) == 1) or (depth >= max_depth):\n",
    "        return most_common_class(examples)\n",
    "    else:\n",
    "        #find the best split possible within the current split points\n",
    "        #splits[] = [above, below]\n",
    "        root_node, splits = find_best_split(examples, calculate_purity)\n",
    "        for i in range(0,len(splits)):\n",
    "            #above and below calculations\n",
    "            #split should consist of a subset of examples\n",
    "            new_node = learn_tree(splits[i],examples,depth-1,max_depth, calculate_purity)\n",
    "            root_node.new_child_node(i,new_node)\n",
    "        return root_node"
   ]
  },
  {
   "cell_type": "code",
   "execution_count": 18,
   "id": "cbf18f39-2d96-4374-ace0-e10d6fe0ad5b",
   "metadata": {},
   "outputs": [],
   "source": [
    "def tree_prediction(point, root_node):\n",
    "    prediction = root_node.predict(point)\n",
    "    while isinstance(prediction, Node):\n",
    "        prediction = root_node.predict(point)\n",
    "    return prediction"
   ]
  },
  {
   "cell_type": "code",
   "execution_count": 9,
   "id": "3660aaef-e64b-4897-a0a2-24b261c89b10",
   "metadata": {},
   "outputs": [],
   "source": [
    "def get_subset(data_frame, subset_length):\n",
    "    #randomly sample rows from the dataframe up to length n\n",
    "    #where n is the specified subset length\n",
    "    subset = data_frame.sample(n=subset_length, random_state=1)    \n",
    "    return subset"
   ]
  },
  {
   "cell_type": "code",
   "execution_count": 10,
   "id": "7f2c0b49-6f63-47e8-b0e0-0d5289790f61",
   "metadata": {},
   "outputs": [],
   "source": [
    "def random_forest(data_frame, subset_length, max_depth, num_of_trees, purity_calculation):\n",
    "    trees = []\n",
    "    for i in range(0, num_of_trees):\n",
    "        #generate a random subsample\n",
    "        subset = get_subset(data_frame, subset_length)\n",
    "        #create the tree and append to list\n",
    "        tree = learn_tree(subset, None, 0, max_depth, purity_calculation)\n",
    "        trees.append(tree)\n",
    "    return trees"
   ]
  },
  {
   "cell_type": "code",
   "execution_count": 43,
   "id": "8d3effcf-4298-4a5f-bb1b-a396685ba2d5",
   "metadata": {},
   "outputs": [],
   "source": [
    "def predict_data_with_trees(testing_data, trees, num_of_trees):\n",
    "    predicted_labels = []\n",
    "    for index, row in testing_data.iterrows():\n",
    "        predictions = np.zeros(num_of_trees)\n",
    "        for i in range(0,num_of_trees):\n",
    "            #casting to int because bincount does not like floating point\n",
    "            predictions[i] = tree_prediction(row, trees[i])\n",
    "        #select maximum class, voting method\n",
    "        most_voted_class = np.bincount(predictions.astype(np.int64)).argmax()\n",
    "        predicted_labels.append(most_voted_class)\n",
    "    return predicted_labels\n",
    "        \n",
    "        "
   ]
  },
  {
   "cell_type": "code",
   "execution_count": 11,
   "id": "8bd1fd90-b1ed-4ae0-9ff1-f3ecfd2704fb",
   "metadata": {},
   "outputs": [],
   "source": [
    "test_data = {'id': [1,2,3,4,5,6,7,8,9,10], '0': [1,12,4.3,6,14,2,9,14,5,4],'1':[4.5,7,1,3,4.8,15,17,7,1.9,10],'class':[0,1,0,0,1,0,1,1,0,0]}"
   ]
  },
  {
   "cell_type": "code",
   "execution_count": 12,
   "id": "ca05d94e-1440-4d7e-810e-4cf82332a35f",
   "metadata": {},
   "outputs": [],
   "source": [
    "df = pd.DataFrame(data=test_data)"
   ]
  },
  {
   "cell_type": "code",
   "execution_count": 13,
   "id": "c64f31a4-8f16-4605-8883-f26126670c64",
   "metadata": {},
   "outputs": [],
   "source": [
    "max_depth = 4"
   ]
  },
  {
   "cell_type": "code",
   "execution_count": 14,
   "id": "3d2384d2-644e-4aaf-95fa-799f704b331d",
   "metadata": {},
   "outputs": [],
   "source": [
    "n = learn_tree(df,None,0,max_depth,gini_index_numerical)"
   ]
  },
  {
   "cell_type": "code",
   "execution_count": 27,
   "id": "6eccec87-a0f0-4148-a077-4e2db4de10d5",
   "metadata": {},
   "outputs": [
    {
     "name": "stdout",
     "output_type": "stream",
     "text": [
      "prediction for point 1, 4 is <class 'numpy.float64'>\n",
      "prediction for point 19, 12 is <class 'numpy.float64'>\n",
      "prediction for point 11, 11 is <class 'numpy.float64'>\n"
     ]
    }
   ],
   "source": [
    "testing = {'id': [1,2,3], '0': [1,19,11],'1':[4,12,11],'class':[0,1,1]}\n",
    "tdf = pd.DataFrame(data=testing)\n",
    "\n",
    "for index, point in tdf.iterrows():\n",
    "    prediction = n.predict(point)\n",
    "    while isinstance(prediction,Node):\n",
    "        prediction = n.predict(point)\n",
    "    print(f\"prediction for point {point['0']}, {point['1']} is {type(prediction)}\")"
   ]
  },
  {
   "cell_type": "code",
   "execution_count": 90,
   "id": "221358ef-ffde-41c4-967f-88aa14b87e81",
   "metadata": {},
   "outputs": [
    {
     "ename": "ValueError",
     "evalue": "math domain error",
     "output_type": "error",
     "traceback": [
      "\u001b[1;31m---------------------------------------------------------------------------\u001b[0m",
      "\u001b[1;31mValueError\u001b[0m                                Traceback (most recent call last)",
      "\u001b[1;32m~\\AppData\\Local\\Temp/ipykernel_31460/611799075.py\u001b[0m in \u001b[0;36m<module>\u001b[1;34m\u001b[0m\n\u001b[0;32m      6\u001b[0m \u001b[0mpredictions\u001b[0m \u001b[1;33m=\u001b[0m \u001b[1;33m[\u001b[0m\u001b[1;33m]\u001b[0m\u001b[1;33m\u001b[0m\u001b[1;33m\u001b[0m\u001b[0m\n\u001b[0;32m      7\u001b[0m \u001b[1;32mfor\u001b[0m \u001b[0mnum_of_trees\u001b[0m \u001b[1;32min\u001b[0m \u001b[0mtree_nums\u001b[0m\u001b[1;33m:\u001b[0m\u001b[1;33m\u001b[0m\u001b[1;33m\u001b[0m\u001b[0m\n\u001b[1;32m----> 8\u001b[1;33m     \u001b[0mtrained_trees\u001b[0m \u001b[1;33m=\u001b[0m \u001b[0mrandom_forest\u001b[0m\u001b[1;33m(\u001b[0m\u001b[0mdf\u001b[0m\u001b[1;33m,\u001b[0m\u001b[0msubset_length\u001b[0m\u001b[1;33m,\u001b[0m\u001b[0mmax_depth\u001b[0m\u001b[1;33m,\u001b[0m\u001b[0mnum_of_trees\u001b[0m\u001b[1;33m,\u001b[0m\u001b[0mentropy_calculation\u001b[0m\u001b[1;33m)\u001b[0m\u001b[1;33m\u001b[0m\u001b[1;33m\u001b[0m\u001b[0m\n\u001b[0m\u001b[0;32m      9\u001b[0m     \u001b[0mpredictions\u001b[0m \u001b[1;33m=\u001b[0m \u001b[0mpredict_data_with_trees\u001b[0m\u001b[1;33m(\u001b[0m\u001b[0mtdf\u001b[0m\u001b[1;33m,\u001b[0m\u001b[0mtrained_trees\u001b[0m\u001b[1;33m,\u001b[0m\u001b[0mnum_of_trees\u001b[0m\u001b[1;33m)\u001b[0m\u001b[1;33m\u001b[0m\u001b[1;33m\u001b[0m\u001b[0m\n\u001b[0;32m     10\u001b[0m \u001b[0mprint\u001b[0m\u001b[1;33m(\u001b[0m\u001b[0mpredictions\u001b[0m\u001b[1;33m)\u001b[0m\u001b[1;33m\u001b[0m\u001b[1;33m\u001b[0m\u001b[0m\n",
      "\u001b[1;32m~\\AppData\\Local\\Temp/ipykernel_31460/584278254.py\u001b[0m in \u001b[0;36mrandom_forest\u001b[1;34m(data_frame, subset_length, max_depth, num_of_trees, purity_calculation)\u001b[0m\n\u001b[0;32m      5\u001b[0m         \u001b[0msubset\u001b[0m \u001b[1;33m=\u001b[0m \u001b[0mget_subset\u001b[0m\u001b[1;33m(\u001b[0m\u001b[0mdata_frame\u001b[0m\u001b[1;33m,\u001b[0m \u001b[0msubset_length\u001b[0m\u001b[1;33m)\u001b[0m\u001b[1;33m\u001b[0m\u001b[1;33m\u001b[0m\u001b[0m\n\u001b[0;32m      6\u001b[0m         \u001b[1;31m#create the tree and append to list\u001b[0m\u001b[1;33m\u001b[0m\u001b[1;33m\u001b[0m\u001b[0m\n\u001b[1;32m----> 7\u001b[1;33m         \u001b[0mtree\u001b[0m \u001b[1;33m=\u001b[0m \u001b[0mlearn_tree\u001b[0m\u001b[1;33m(\u001b[0m\u001b[0msubset\u001b[0m\u001b[1;33m,\u001b[0m \u001b[1;32mNone\u001b[0m\u001b[1;33m,\u001b[0m \u001b[1;36m0\u001b[0m\u001b[1;33m,\u001b[0m \u001b[0mmax_depth\u001b[0m\u001b[1;33m,\u001b[0m \u001b[0mpurity_calculation\u001b[0m\u001b[1;33m)\u001b[0m\u001b[1;33m\u001b[0m\u001b[1;33m\u001b[0m\u001b[0m\n\u001b[0m\u001b[0;32m      8\u001b[0m         \u001b[0mtrees\u001b[0m\u001b[1;33m.\u001b[0m\u001b[0mappend\u001b[0m\u001b[1;33m(\u001b[0m\u001b[0mtree\u001b[0m\u001b[1;33m)\u001b[0m\u001b[1;33m\u001b[0m\u001b[1;33m\u001b[0m\u001b[0m\n\u001b[0;32m      9\u001b[0m     \u001b[1;32mreturn\u001b[0m \u001b[0mtrees\u001b[0m\u001b[1;33m\u001b[0m\u001b[1;33m\u001b[0m\u001b[0m\n",
      "\u001b[1;32m~\\AppData\\Local\\Temp/ipykernel_31460/1073168720.py\u001b[0m in \u001b[0;36mlearn_tree\u001b[1;34m(examples, parent_examples, depth, max_depth, calculate_purity)\u001b[0m\n\u001b[0;32m      8\u001b[0m         \u001b[1;31m#find the best split possible within the current split points\u001b[0m\u001b[1;33m\u001b[0m\u001b[1;33m\u001b[0m\u001b[0m\n\u001b[0;32m      9\u001b[0m         \u001b[1;31m#splits[] = [above, below]\u001b[0m\u001b[1;33m\u001b[0m\u001b[1;33m\u001b[0m\u001b[0m\n\u001b[1;32m---> 10\u001b[1;33m         \u001b[0mroot_node\u001b[0m\u001b[1;33m,\u001b[0m \u001b[0msplits\u001b[0m \u001b[1;33m=\u001b[0m \u001b[0mfind_best_split\u001b[0m\u001b[1;33m(\u001b[0m\u001b[0mexamples\u001b[0m\u001b[1;33m,\u001b[0m \u001b[0mcalculate_purity\u001b[0m\u001b[1;33m)\u001b[0m\u001b[1;33m\u001b[0m\u001b[1;33m\u001b[0m\u001b[0m\n\u001b[0m\u001b[0;32m     11\u001b[0m         \u001b[1;32mfor\u001b[0m \u001b[0mi\u001b[0m \u001b[1;32min\u001b[0m \u001b[0mrange\u001b[0m\u001b[1;33m(\u001b[0m\u001b[1;36m0\u001b[0m\u001b[1;33m,\u001b[0m\u001b[0mlen\u001b[0m\u001b[1;33m(\u001b[0m\u001b[0msplits\u001b[0m\u001b[1;33m)\u001b[0m\u001b[1;33m)\u001b[0m\u001b[1;33m:\u001b[0m\u001b[1;33m\u001b[0m\u001b[1;33m\u001b[0m\u001b[0m\n\u001b[0;32m     12\u001b[0m             \u001b[1;31m#above and below calculations\u001b[0m\u001b[1;33m\u001b[0m\u001b[1;33m\u001b[0m\u001b[0m\n",
      "\u001b[1;32m~\\AppData\\Local\\Temp/ipykernel_31460/560880116.py\u001b[0m in \u001b[0;36mfind_best_split\u001b[1;34m(examples, calculate_purity)\u001b[0m\n\u001b[0;32m     18\u001b[0m             \u001b[0mabove_split\u001b[0m\u001b[1;33m,\u001b[0m \u001b[0mbelow_split\u001b[0m \u001b[1;33m=\u001b[0m \u001b[0msplit\u001b[0m\u001b[1;33m(\u001b[0m\u001b[0mrow\u001b[0m\u001b[1;33m[\u001b[0m\u001b[0mval\u001b[0m\u001b[1;33m]\u001b[0m\u001b[1;33m,\u001b[0m \u001b[0mval\u001b[0m\u001b[1;33m,\u001b[0m \u001b[0mexamples\u001b[0m\u001b[1;33m)\u001b[0m\u001b[1;33m\u001b[0m\u001b[1;33m\u001b[0m\u001b[0m\n\u001b[0;32m     19\u001b[0m             \u001b[1;31m#purity = calculate_purity(above_split, below_split, val)\u001b[0m\u001b[1;33m\u001b[0m\u001b[1;33m\u001b[0m\u001b[0m\n\u001b[1;32m---> 20\u001b[1;33m             \u001b[0mpurity\u001b[0m \u001b[1;33m=\u001b[0m \u001b[0mcalculate_purity\u001b[0m\u001b[1;33m(\u001b[0m\u001b[1;33m[\u001b[0m\u001b[0mabove_split\u001b[0m\u001b[1;33m,\u001b[0m \u001b[0mbelow_split\u001b[0m\u001b[1;33m]\u001b[0m\u001b[1;33m,\u001b[0m \u001b[0mexamples\u001b[0m\u001b[1;33m[\u001b[0m\u001b[1;34m'class'\u001b[0m\u001b[1;33m]\u001b[0m\u001b[1;33m.\u001b[0m\u001b[0mvalue_counts\u001b[0m\u001b[1;33m(\u001b[0m\u001b[1;33m)\u001b[0m\u001b[1;33m,\u001b[0m \u001b[0mlen\u001b[0m\u001b[1;33m(\u001b[0m\u001b[0mexamples\u001b[0m\u001b[1;33m)\u001b[0m\u001b[1;33m)\u001b[0m\u001b[1;33m\u001b[0m\u001b[1;33m\u001b[0m\u001b[0m\n\u001b[0m\u001b[0;32m     21\u001b[0m             \u001b[1;32mif\u001b[0m \u001b[0mpurity\u001b[0m \u001b[1;33m<\u001b[0m \u001b[0mbest_purity\u001b[0m\u001b[1;33m:\u001b[0m\u001b[1;33m\u001b[0m\u001b[1;33m\u001b[0m\u001b[0m\n\u001b[0;32m     22\u001b[0m                 \u001b[0mbest_purity\u001b[0m \u001b[1;33m=\u001b[0m \u001b[0mpurity\u001b[0m\u001b[1;33m\u001b[0m\u001b[1;33m\u001b[0m\u001b[0m\n",
      "\u001b[1;32m~\\AppData\\Local\\Temp/ipykernel_31460/3152718255.py\u001b[0m in \u001b[0;36mentropy_calculation\u001b[1;34m(splits, labels, total_in_set)\u001b[0m\n\u001b[0;32m     19\u001b[0m             \u001b[1;32mexcept\u001b[0m \u001b[0mKeyError\u001b[0m\u001b[1;33m:\u001b[0m\u001b[1;33m\u001b[0m\u001b[1;33m\u001b[0m\u001b[0m\n\u001b[0;32m     20\u001b[0m                 \u001b[0mlabel_dist\u001b[0m \u001b[1;33m=\u001b[0m \u001b[1;36m0\u001b[0m\u001b[1;33m\u001b[0m\u001b[1;33m\u001b[0m\u001b[0m\n\u001b[1;32m---> 21\u001b[1;33m             \u001b[0msplit_entropy\u001b[0m \u001b[1;33m+=\u001b[0m \u001b[1;33m(\u001b[0m\u001b[0mlabel_dist\u001b[0m \u001b[1;33m*\u001b[0m \u001b[0mlog2\u001b[0m\u001b[1;33m(\u001b[0m\u001b[0mlabel_dist\u001b[0m\u001b[1;33m)\u001b[0m\u001b[1;33m)\u001b[0m\u001b[1;33m\u001b[0m\u001b[1;33m\u001b[0m\u001b[0m\n\u001b[0m\u001b[0;32m     22\u001b[0m         \u001b[0mentropy\u001b[0m \u001b[1;33m+=\u001b[0m \u001b[0msplit_entropy\u001b[0m\u001b[1;33m\u001b[0m\u001b[1;33m\u001b[0m\u001b[0m\n\u001b[0;32m     23\u001b[0m     \u001b[0mentropy\u001b[0m \u001b[1;33m=\u001b[0m \u001b[1;33m(\u001b[0m\u001b[1;33m-\u001b[0m\u001b[1;36m1\u001b[0m\u001b[1;33m)\u001b[0m\u001b[1;33m*\u001b[0m\u001b[1;33m(\u001b[0m\u001b[0mentropy\u001b[0m\u001b[1;33m)\u001b[0m\u001b[1;33m\u001b[0m\u001b[1;33m\u001b[0m\u001b[0m\n",
      "\u001b[1;31mValueError\u001b[0m: math domain error"
     ]
    }
   ],
   "source": [
    "testing = {'id': [1,2,3], '0': [1,19,11],'1':[4,12,11],'class':[0,1,1]}\n",
    "tdf = pd.DataFrame(data=testing)\n",
    "tree_nums = [10, 20, 30]\n",
    "subset_length = 5\n",
    "max_depth = 7\n",
    "predictions = []\n",
    "for num_of_trees in tree_nums:\n",
    "    trained_trees = random_forest(df,subset_length,max_depth,num_of_trees,entropy_calculation)\n",
    "    predictions = predict_data_with_trees(tdf,trained_trees,num_of_trees)\n",
    "print(predictions)"
   ]
  },
  {
   "cell_type": "code",
   "execution_count": 45,
   "id": "378c9bf5-e700-4deb-b80e-c70ddb0eaa12",
   "metadata": {},
   "outputs": [],
   "source": [
    "newdf = pd.read_csv(\"https://archive.ics.uci.edu/ml/machine-learning-databases/iris/iris.data\",names=[\"0\",\"1\",\"2\",\"3\",\"class\"])"
   ]
  },
  {
   "cell_type": "code",
   "execution_count": 52,
   "id": "76acf6e9-2272-487e-b399-fd6d70159ecd",
   "metadata": {},
   "outputs": [
    {
     "data": {
      "text/plain": [
       "Iris-setosa        50\n",
       "Iris-versicolor    50\n",
       "Iris-virginica     50\n",
       "Name: class, dtype: int64"
      ]
     },
     "execution_count": 52,
     "metadata": {},
     "output_type": "execute_result"
    }
   ],
   "source": [
    "labels = newdf['class'].value_counts()\n",
    "labels"
   ]
  },
  {
   "cell_type": "code",
   "execution_count": null,
   "id": "0587d1c2-cc76-4a3d-835c-c7cf588960b4",
   "metadata": {},
   "outputs": [],
   "source": []
  }
 ],
 "metadata": {
  "kernelspec": {
   "display_name": "Python 3 (ipykernel)",
   "language": "python",
   "name": "python3"
  },
  "language_info": {
   "codemirror_mode": {
    "name": "ipython",
    "version": 3
   },
   "file_extension": ".py",
   "mimetype": "text/x-python",
   "name": "python",
   "nbconvert_exporter": "python",
   "pygments_lexer": "ipython3",
   "version": "3.9.7"
  }
 },
 "nbformat": 4,
 "nbformat_minor": 5
}

{
 "cells": [
  {
   "cell_type": "code",
   "execution_count": 54,
   "id": "1269ec70",
   "metadata": {},
   "outputs": [],
   "source": [
    "import pandas as pd\n",
    "import numpy as np\n",
    "import matplotlib.pyplot as plt\n",
    "import seaborn as sns\n",
    "from random import randrange, sample\n",
    "from math import log2, sqrt,ceil\n",
    "from sklearn.model_selection import train_test_split\n",
    "from sklearn.preprocessing import LabelEncoder\n",
    "from sklearn.datasets import load_digits\n",
    "import time"
   ]
  },
  {
   "cell_type": "code",
   "execution_count": 28,
   "id": "c1b900b3",
   "metadata": {},
   "outputs": [],
   "source": [
    "bg = 26"
   ]
  },
  {
   "cell_type": "code",
   "execution_count": 3,
   "id": "1c59eafd",
   "metadata": {},
   "outputs": [],
   "source": [
    "def gini_index_numerical(above_split, below_split, attribute):\n",
    "    #UPDATING NOW INPUTS ARE DATAFRAMES\n",
    "    total_above = len(above_split)\n",
    "    total_below = len(below_split)\n",
    "    total = total_above + total_below\n",
    "    #for each class calculate the individual index\n",
    "    above_index = 0\n",
    "    below_index = 0\n",
    "    #probability point is above\n",
    "    #TODO OPTIMIZE\n",
    "    labels = ['0','1']\n",
    "    above_count = above_split['class'].value_counts()\n",
    "    below_count = below_split['class'].value_counts()\n",
    "    for i in range(0,len(labels)):\n",
    "        #check for empty frames\n",
    "        try:\n",
    "            p_above = 0 if above_split.empty else above_count[i] / total_above\n",
    "        except KeyError:\n",
    "            p_above = 0\n",
    "        try:\n",
    "            p_below = 0 if below_split.empty else below_count[i] / total_below\n",
    "        except KeyError:\n",
    "            p_below = 0\n",
    "        above_index += (p_above * p_above)\n",
    "        below_index += (p_below * p_below)\n",
    "    above_index = 1 - above_index\n",
    "    below_index = 1 - below_index\n",
    "    return (above_index * (total_above / total)) + (below_index * (total_below / total))"
   ]
  },
  {
   "cell_type": "markdown",
   "id": "9511940c",
   "metadata": {},
   "source": [
    "gini_index_numerical takes in two n-d numpy arrays where n represents the number of potential classes. The above_split array represents all of the points located numerically above the split point and the below_split array represents the points with a lesser value."
   ]
  },
  {
   "cell_type": "code",
   "execution_count": 4,
   "id": "e3811e6e",
   "metadata": {},
   "outputs": [],
   "source": [
    "def entropy_calculation(splits, labels, total_in_set):\n",
    "    #calculate the total entropy by calculating the probabilities\n",
    "    if not splits:\n",
    "        return 2\n",
    "    entropy_before_split = 0\n",
    "    for label in range(0, len(labels)):\n",
    "        try:\n",
    "            entropy_before_split += labels[label] / total_in_set\n",
    "        except KeyError:\n",
    "            entropy_before_split = entropy_before_split\n",
    "    entropy = 0\n",
    "    for split in splits:\n",
    "        #for each split calculate the entropy for the given label set\n",
    "        split_entropy = 0\n",
    "        total_in_split = len(split)\n",
    "        label_count = split['class'].value_counts()\n",
    "        for label in range(0,len(labels)):\n",
    "            #calculating entropy\n",
    "            #need to get the values for each label within the split\n",
    "            #i.e. if split A has 15 values, 4 are class 0: 5 are class 1 and 6 are class 2\n",
    "            #class 0 would have 4/15 * log2(4/15)\n",
    "            try:\n",
    "                label_dist = 0 if split.empty else label_count[label] / total_in_split\n",
    "            except KeyError:\n",
    "                label_dist = 0\n",
    "            split_entropy = split_entropy if label_dist == 0 else (split_entropy + (label_dist * log2(label_dist)))\n",
    "            #split_entropy += (label_dist * log2(label_dist))\n",
    "        entropy += split_entropy\n",
    "    entropy = (-1)*(entropy)\n",
    "    return entropy\n",
    "        "
   ]
  },
  {
   "cell_type": "code",
   "execution_count": 5,
   "id": "01066fe4",
   "metadata": {},
   "outputs": [],
   "source": [
    "def gini_index_calculation(splits, labels, total_in_set):\n",
    "    #calculate for each potential class\n",
    "    if not splits:\n",
    "        return 2\n",
    "    g_index = 0\n",
    "    for split in splits:\n",
    "        split_index = 0\n",
    "        label_count = split['class'].value_counts()\n",
    "        total_in_split = len(split)\n",
    "        #for label in labels:\n",
    "        for label in range(0,len(labels)):\n",
    "            try:\n",
    "                p_split = 0 if split.empty else (label_count[label] / total_in_split)\n",
    "            except (KeyError, IndexError):\n",
    "                p_split = 0\n",
    "            split_index += (p_split * p_split)\n",
    "        split_index = 1-split_index\n",
    "        g_index += (split_index * (total_in_split / total_in_set))\n",
    "    return g_index    "
   ]
  },
  {
   "cell_type": "code",
   "execution_count": 6,
   "id": "4f63cc98",
   "metadata": {},
   "outputs": [],
   "source": [
    "def misclassification_calculation(splits, labels, total_in_set):\n",
    "    #for each split\n",
    "    if not splits:\n",
    "        return 2\n",
    "    max_classification = 0\n",
    "    for split in splits:\n",
    "        #find the class which maximizes the fraction of correctly classified points\n",
    "        label_count = split['class'].value_counts()\n",
    "        total_in_split = len(split)\n",
    "        for label in range(0,len(labels)):\n",
    "            #if label exists within row\n",
    "            try:\n",
    "                classification_ind = 0 if split.empty else (label_count[label] / total_in_split)\n",
    "            except (KeyError, IndexError):\n",
    "                classification_ind = 0\n",
    "            if classification_ind > max_classification:\n",
    "                max_classification = classification_ind\n",
    "    return (1 - max_classification)\n"
   ]
  },
  {
   "cell_type": "markdown",
   "id": "eb40e709",
   "metadata": {},
   "source": [
    "The gini_index_multiclass function takes in the splits, the attribute the set was split on, and the potential labels. The potential features should be defined as [0,1,...n-1] where n is the total number of features within the set. Possible feature values could depend on dataset (is pixel on or off, position of pixel, "
   ]
  },
  {
   "cell_type": "code",
   "execution_count": 7,
   "id": "571fe4fe",
   "metadata": {},
   "outputs": [],
   "source": [
    "class Node:\n",
    "    def __init__(self, splitting_point, split_values, split_feature):\n",
    "        self.split_values = split_values\n",
    "        self.split_feature = split_feature\n",
    "        #self.splitting_attribute = splitting_attribute\n",
    "        self.splitting_point = splitting_point\n",
    "        #TODO change to k for k classes?\n",
    "        if split_values == 0:\n",
    "            #self.children = np.zeros(2)\n",
    "            self.children = [0 for i in range(0,2)]\n",
    "        else:\n",
    "            #self.children = np.zeros(len(split_values))\n",
    "            self.children = [0 for i in range(0,len(split_values))]\n",
    "        self.children_split_length = np.zeros(len(self.children))\n",
    "    \n",
    "    def new_child_node(self, child_index, child, split_length):\n",
    "        #print(child_index, child)\n",
    "        self.children[child_index] = child\n",
    "        self.children_split_length[child_index] = split_length\n",
    "        \n",
    "    def __str__(self):\n",
    "        a = f\"splitting_point {self.splitting_point} , split_feature {self.split_feature}\\n\"\n",
    "        for idx, child in enumerate(self.children):\n",
    "            a += f\"child {idx}: {child}\"\n",
    "        return a\n",
    "    \n",
    "    def predict(self, point):\n",
    "        val = point[self.split_feature]\n",
    "        #child_index = self.children.index(val)\n",
    "        \n",
    "        #print(val, self.splitting_point, \"retrurning -> \")\n",
    "        if self.split_values == 0:\n",
    "            if val >= self.splitting_point:\n",
    "                #print(self.children[0])\n",
    "                return self.children[0]\n",
    "            else:\n",
    "                #print(self.children[1])\n",
    "                return self.children[1]\n",
    "        else:\n",
    "            #UPDATE THIS FUNCTION HOW TO FOLLOW PATH WHEN NON NUMERICAL?\n",
    "            if isinstance(point[self.split_feature],str):\n",
    "                splitting_val = point[self.split_feature].split()\n",
    "            else:\n",
    "                splitting_val = [point[self.split_feature]]\n",
    "            #GET INDEX OF THE VALUE IN SPLIT_VALUES WHIHC MATCHES INCOMING POINT?\n",
    "            #'?' represents an unknown value, how to deal with?\n",
    "            #perhaps follow split with most number of attributes?\n",
    "            if splitting_val[0] == \"?\":\n",
    "                #unknown follow feature attribute with most values?\n",
    "                #return index of max split value\n",
    "                child_index = np.argmax(self.children_split_length)\n",
    "            else:\n",
    "                child_index = self.split_values.index(splitting_val[0])\n",
    "            return self.children[child_index]"
   ]
  },
  {
   "cell_type": "markdown",
   "id": "d8cadeef",
   "metadata": {},
   "source": [
    "The Node class represents each node within the tree. The splitting attribute and point determines the axis and value the node splits on. The above and below values represent the next node or label based on the splitting point."
   ]
  },
  {
   "cell_type": "code",
   "execution_count": 8,
   "id": "4ddc38c0",
   "metadata": {},
   "outputs": [],
   "source": [
    "def split_continuous(value, attribute, examples):\n",
    "    #split where item in row > or < value\n",
    "    above_values = examples.loc[examples[attribute] >= value]\n",
    "    below_values = examples.loc[examples[attribute] < value]\n",
    "    return [above_values, below_values]\n",
    "    "
   ]
  },
  {
   "cell_type": "code",
   "execution_count": 9,
   "id": "8cd4bd34",
   "metadata": {},
   "outputs": [],
   "source": [
    "def split_discrete(feature_name, feature_values, examples):\n",
    "    #split dataset based on all possible values\n",
    "    #TODO make this dynamically adjustable for when |features| > 2!\n",
    "    #CHOOSE M RANDOM FEATURE VALUES\n",
    "    # if len(feature_values) > 2:\n",
    "    #     feature_values = get_random_feature_values(\n",
    "    splits = []\n",
    "    for value in feature_values:\n",
    "        #value = value.rjust(len(value)+1)\n",
    "        subset = examples.loc[examples[feature_name] == value]\n",
    "        splits.append(subset)\n",
    "    return splits                                   "
   ]
  },
  {
   "cell_type": "code",
   "execution_count": 10,
   "id": "9508e073",
   "metadata": {},
   "outputs": [],
   "source": [
    "def find_best_split(examples, features, calculate_purity,M):\n",
    "    #given a dataframe -> examples find the best splitting value within based\n",
    "    #on the given purity calculation\n",
    "    #for row in examples\n",
    "        #for attribute in row\n",
    "            #value = row[attribute]\n",
    "            #split = split(value, examples)\n",
    "            #purity = calculate_purity(split)\n",
    "            #if purity better than best purity is best\n",
    "    #TODO OPTIMIZE THIS\n",
    "    best_purity = 2\n",
    "    best_node = None\n",
    "    best_splits = []\n",
    "    #Randomly Select M features from the feature list and find best split from those!\n",
    "    r_features = dict(sample(features.items(),M))\n",
    "    \n",
    "    for index, row in examples.iterrows():\n",
    "        #loop through all features determining which are continous and which are discrete\n",
    "        #discrete -> pixel on / off or values such as couldy/rainy/windy\n",
    "        for feature_name, values in r_features.items():\n",
    "            \n",
    "            if(row[feature_name] == \"?\"):\n",
    "                print(\"UNKNOWN\")\n",
    "            if(values == 0):\n",
    "                #continous split based on current value in the row\n",
    "                try:\n",
    "                    splits = split_continuous(row[feature_name],feature_name,examples)\n",
    "                except (IndexError,KeyError):\n",
    "                    splits = []\n",
    "            else:\n",
    "                #split based on \n",
    "                splits = split_discrete(feature_name, values, examples)           \n",
    "            #split dataframe into 2 dataframes\n",
    "            #splits = split(row[val], val, examples)\n",
    "            #purity = calculate_purity(above_split, below_split, val)\n",
    "            purity = calculate_purity(splits, examples['class'].value_counts(), len(examples))\n",
    "            if purity < best_purity:\n",
    "                best_purity = purity\n",
    "                #create new node based on best attribute and value\n",
    "                best_node = Node(row[feature_name], values, feature_name)\n",
    "                best_splits = splits\n",
    "    return best_node, best_splits\n",
    "        "
   ]
  },
  {
   "cell_type": "code",
   "execution_count": 11,
   "id": "822ec85b",
   "metadata": {},
   "outputs": [],
   "source": [
    "def most_common_class(examples):\n",
    "    classes = examples['class'].value_counts()\n",
    "    return classes.idxmax()"
   ]
  },
  {
   "cell_type": "code",
   "execution_count": 12,
   "id": "8e1e5232",
   "metadata": {},
   "outputs": [],
   "source": [
    "def number_of_classes_in_samples(examples):\n",
    "        return len(examples['class'].value_counts())"
   ]
  },
  {
   "cell_type": "code",
   "execution_count": 13,
   "id": "567be0cf",
   "metadata": {},
   "outputs": [],
   "source": [
    "def learn_tree(examples, features, parent_examples, depth, max_depth, calculate_purity,M):\n",
    "    #work with ending conditions, if no more examples left then return most common class in parent examples\n",
    "    if examples.empty or (number_of_classes_in_samples == 0):\n",
    "        return most_common_class(parent_examples)\n",
    "    elif (number_of_classes_in_samples(examples) == 1) or (depth >= max_depth):\n",
    "        return most_common_class(examples)\n",
    "    else:\n",
    "        #find the best split possible within the current split points\n",
    "        root_node, splits = find_best_split(examples, features, calculate_purity,M)\n",
    "        if(root_node is None):\n",
    "            #print(\"ROOT NODE IS NULL RETURNING MOST COMMON CLASS WITHIN EXAMPLES\")\n",
    "            root_node = learn_tree(pd.DataFrame(),features,examples,depth-1,max_depth,calculate_purity,M)\n",
    "            #print(examples)\n",
    "            #print(\"splits---\",splits\n",
    "        else:\n",
    "            for i in range(0,len(splits)):\n",
    "                #above and below calculations\n",
    "                #split should consist of a subset of examples\n",
    "                #print(\"new node creation \", len(splits[i]), depth)\n",
    "                new_node = learn_tree(splits[i],features, examples,depth+1,max_depth, calculate_purity,M)\n",
    "                #IF NODE IS NONE? RETURN \n",
    "                root_node.new_child_node(i,new_node, len(splits[i]))\n",
    "        return root_node"
   ]
  },
  {
   "cell_type": "code",
   "execution_count": 14,
   "id": "c570b976",
   "metadata": {},
   "outputs": [],
   "source": [
    "def tree_prediction(point, root_node):\n",
    "    if not isinstance(root_node,Node):\n",
    "        return root_node\n",
    "    prediction = root_node.predict(point)\n",
    "    while isinstance(prediction, Node):\n",
    "        prediction = prediction.predict(point)\n",
    "    return prediction"
   ]
  },
  {
   "cell_type": "code",
   "execution_count": 15,
   "id": "6e3b274d",
   "metadata": {},
   "outputs": [],
   "source": [
    "def get_subset(data_frame, subset_length):\n",
    "    #randomly sample rows from the dataframe up to length n\n",
    "    #where n is the specified subset length\n",
    "    subset = data_frame.sample(n=subset_length, random_state=bg)    \n",
    "    return subset"
   ]
  },
  {
   "cell_type": "code",
   "execution_count": 16,
   "id": "7017df77",
   "metadata": {},
   "outputs": [],
   "source": [
    "def random_forest(data_frame, features, subset_length, max_depth, num_of_trees, purity_calculation,M):\n",
    "    trees = []\n",
    "    for i in range(0, num_of_trees):\n",
    "        #generate a random subsample\n",
    "        subset = get_subset(data_frame, subset_length)\n",
    "        #create the tree and append to list\n",
    "        tree = learn_tree(subset, features, None, 0, max_depth, purity_calculation,M)\n",
    "        trees.append(tree)\n",
    "    return trees"
   ]
  },
  {
   "cell_type": "code",
   "execution_count": 17,
   "id": "2fe04e1d",
   "metadata": {},
   "outputs": [],
   "source": [
    "def predict_data_with_trees(testing_data, trees, num_of_trees):\n",
    "    predicted_labels = []\n",
    "    for index, row in testing_data.iterrows():\n",
    "        predictions = np.zeros(num_of_trees)\n",
    "        for i in range(0,num_of_trees):\n",
    "            #casting to int because bincount does not like floating point\n",
    "            #print(f\"looking at tree {trees[i]}\")\n",
    "            #print(f\"NEW ELEMENT: {row}\")\n",
    "            predictions[i] = tree_prediction(row, trees[i])\n",
    "            #print(f\"result {predictions[i]}\")\n",
    "        #select maximum class, voting method\n",
    "        #print(\"done with predictions\")\n",
    "        most_voted_class = np.bincount(predictions.astype(np.int64)).argmax()\n",
    "        predicted_labels.append(most_voted_class)\n",
    "    return predicted_labels"
   ]
  },
  {
   "cell_type": "code",
   "execution_count": 43,
   "id": "9b2064e1",
   "metadata": {},
   "outputs": [],
   "source": [
    "def score(data, predictions):\n",
    "    i, c, t = 0,0,0\n",
    "    for ind, val in data['class'].items():\n",
    "        if predictions[i] == val:\n",
    "            c+=1\n",
    "        i+=1\n",
    "        t+=1\n",
    "    return c, t , c/t*100"
   ]
  },
  {
   "cell_type": "code",
   "execution_count": 18,
   "id": "83109788",
   "metadata": {},
   "outputs": [],
   "source": [
    "test_data = {'id': [1,2,3,4,5,6,7,8,9,10], '0': [1,12,4.3,6,14,2,9,14,5,4],'1':[4.5,7,1,3,4.8,15,17,7,1.9,10],'class':[0,1,0,0,1,0,1,1,0,0]}"
   ]
  },
  {
   "cell_type": "code",
   "execution_count": 19,
   "id": "ca3e41fd",
   "metadata": {},
   "outputs": [],
   "source": [
    "df = pd.DataFrame(data=test_data)"
   ]
  },
  {
   "cell_type": "code",
   "execution_count": 22,
   "id": "050e1c6b",
   "metadata": {},
   "outputs": [],
   "source": [
    "tree_nums = [10, 50, 150]\n",
    "max_depth = 4"
   ]
  },
  {
   "cell_type": "code",
   "execution_count": 23,
   "id": "5fc60860",
   "metadata": {},
   "outputs": [
    {
     "ename": "NameError",
     "evalue": "name 'features' is not defined",
     "output_type": "error",
     "traceback": [
      "\u001b[1;31m---------------------------------------------------------------------------\u001b[0m",
      "\u001b[1;31mNameError\u001b[0m                                 Traceback (most recent call last)",
      "\u001b[1;32m<ipython-input-23-351e742abeed>\u001b[0m in \u001b[0;36m<module>\u001b[1;34m\u001b[0m\n\u001b[0;32m      4\u001b[0m \u001b[0mpredictions\u001b[0m \u001b[1;33m=\u001b[0m \u001b[1;33m[\u001b[0m\u001b[1;33m]\u001b[0m\u001b[1;33m\u001b[0m\u001b[1;33m\u001b[0m\u001b[0m\n\u001b[0;32m      5\u001b[0m \u001b[1;32mfor\u001b[0m \u001b[0mnum_of_trees\u001b[0m \u001b[1;32min\u001b[0m \u001b[0mtree_nums\u001b[0m\u001b[1;33m:\u001b[0m\u001b[1;33m\u001b[0m\u001b[1;33m\u001b[0m\u001b[0m\n\u001b[1;32m----> 6\u001b[1;33m     \u001b[0mtrained_trees\u001b[0m \u001b[1;33m=\u001b[0m \u001b[0mrandom_forest\u001b[0m\u001b[1;33m(\u001b[0m\u001b[0mdf\u001b[0m\u001b[1;33m,\u001b[0m\u001b[0mfeatures\u001b[0m\u001b[1;33m,\u001b[0m\u001b[0msubset_length\u001b[0m\u001b[1;33m,\u001b[0m\u001b[0mmax_depth\u001b[0m\u001b[1;33m,\u001b[0m\u001b[0mnum_of_trees\u001b[0m\u001b[1;33m,\u001b[0m\u001b[0mentropy_calculation\u001b[0m\u001b[1;33m)\u001b[0m\u001b[1;33m\u001b[0m\u001b[1;33m\u001b[0m\u001b[0m\n\u001b[0m\u001b[0;32m      7\u001b[0m     \u001b[1;32mfor\u001b[0m \u001b[0mroot_node\u001b[0m \u001b[1;32min\u001b[0m \u001b[0mtrained_trees\u001b[0m\u001b[1;33m:\u001b[0m\u001b[1;33m\u001b[0m\u001b[1;33m\u001b[0m\u001b[0m\n\u001b[0;32m      8\u001b[0m         \u001b[0mprint\u001b[0m\u001b[1;33m(\u001b[0m\u001b[0mroot_node\u001b[0m\u001b[1;33m)\u001b[0m\u001b[1;33m\u001b[0m\u001b[1;33m\u001b[0m\u001b[0m\n",
      "\u001b[1;31mNameError\u001b[0m: name 'features' is not defined"
     ]
    }
   ],
   "source": [
    "testing = {'id': [1,2,3], '0': [1,19,11],'1':[4,12,11],'class':[0,1,1]}\n",
    "tdf = pd.DataFrame(data=testing)\n",
    "subset_length = sqrt(len(testing))\n",
    "predictions = []\n",
    "for num_of_trees in tree_nums:\n",
    "    trained_trees = random_forest(df,features,subset_length,max_depth,num_of_trees,entropy_calculation)\n",
    "    for root_node in trained_trees:\n",
    "        print(root_node)\n",
    "    predictions = predict_data_with_trees(tdf,trained_trees,num_of_trees)\n",
    "print(predictions)"
   ]
  },
  {
   "cell_type": "code",
   "execution_count": 86,
   "id": "54e6fd34",
   "metadata": {},
   "outputs": [
    {
     "data": {
      "text/html": [
       "<div>\n",
       "<style scoped>\n",
       "    .dataframe tbody tr th:only-of-type {\n",
       "        vertical-align: middle;\n",
       "    }\n",
       "\n",
       "    .dataframe tbody tr th {\n",
       "        vertical-align: top;\n",
       "    }\n",
       "\n",
       "    .dataframe thead th {\n",
       "        text-align: right;\n",
       "    }\n",
       "</style>\n",
       "<table border=\"1\" class=\"dataframe\">\n",
       "  <thead>\n",
       "    <tr style=\"text-align: right;\">\n",
       "      <th></th>\n",
       "      <th>sepal length</th>\n",
       "      <th>sepal width</th>\n",
       "      <th>petal length</th>\n",
       "      <th>petal width</th>\n",
       "      <th>class</th>\n",
       "    </tr>\n",
       "  </thead>\n",
       "  <tbody>\n",
       "    <tr>\n",
       "      <td>145</td>\n",
       "      <td>6.7</td>\n",
       "      <td>3.0</td>\n",
       "      <td>5.2</td>\n",
       "      <td>2.3</td>\n",
       "      <td>2</td>\n",
       "    </tr>\n",
       "    <tr>\n",
       "      <td>146</td>\n",
       "      <td>6.3</td>\n",
       "      <td>2.5</td>\n",
       "      <td>5.0</td>\n",
       "      <td>1.9</td>\n",
       "      <td>2</td>\n",
       "    </tr>\n",
       "    <tr>\n",
       "      <td>147</td>\n",
       "      <td>6.5</td>\n",
       "      <td>3.0</td>\n",
       "      <td>5.2</td>\n",
       "      <td>2.0</td>\n",
       "      <td>2</td>\n",
       "    </tr>\n",
       "    <tr>\n",
       "      <td>148</td>\n",
       "      <td>6.2</td>\n",
       "      <td>3.4</td>\n",
       "      <td>5.4</td>\n",
       "      <td>2.3</td>\n",
       "      <td>2</td>\n",
       "    </tr>\n",
       "    <tr>\n",
       "      <td>149</td>\n",
       "      <td>5.9</td>\n",
       "      <td>3.0</td>\n",
       "      <td>5.1</td>\n",
       "      <td>1.8</td>\n",
       "      <td>2</td>\n",
       "    </tr>\n",
       "  </tbody>\n",
       "</table>\n",
       "</div>"
      ],
      "text/plain": [
       "     sepal length  sepal width  petal length  petal width  class\n",
       "145           6.7          3.0           5.2          2.3      2\n",
       "146           6.3          2.5           5.0          1.9      2\n",
       "147           6.5          3.0           5.2          2.0      2\n",
       "148           6.2          3.4           5.4          2.3      2\n",
       "149           5.9          3.0           5.1          1.8      2"
      ]
     },
     "execution_count": 86,
     "metadata": {},
     "output_type": "execute_result"
    }
   ],
   "source": [
    "features = {\"sepal length\":0,\"sepal width\":0,\"petal length\":0,\"petal width\":0}\n",
    "f_names = [\"sepal length\",\"sepal width\",\"petal length\",\"petal width\",\"class\"]\n",
    "newdf = pd.read_csv(\"https://archive.ics.uci.edu/ml/machine-learning-databases/iris/iris.data\",names=f_names)\n",
    "labelEnc = LabelEncoder()\n",
    "labelEnc.fit(newdf['class'])\n",
    "newdf['class'] = labelEnc.transform(newdf['class'])\n",
    "newdf.tail()"
   ]
  },
  {
   "cell_type": "code",
   "execution_count": 87,
   "id": "3ab997db",
   "metadata": {},
   "outputs": [],
   "source": [
    "labels = newdf['class'].value_counts()\n",
    "labels\n",
    "tree_nums = [10, 50, 150]\n",
    "max_depth =6\n",
    "\n",
    "length_of_data = len(newdf)\n",
    "train_ratio = 0.7\n",
    "length_of_train = length_of_data * train_ratio\n",
    "train, test = train_test_split(newdf, test_size = 0.3, random_state = 43, shuffle=True)\n",
    "subset_length = ceil(sqrt(len(train)))\n",
    "calculation_options = [gini_index_calculation, entropy_calculation, misclassification_calculation]\n",
    "len_of_features = len(features)\n",
    "M = [i for i in range(2,ceil(log2(len_of_features+1))) if i % 2 == 0]"
   ]
  },
  {
   "cell_type": "code",
   "execution_count": 88,
   "id": "6ee55c43",
   "metadata": {},
   "outputs": [
    {
     "name": "stdout",
     "output_type": "stream",
     "text": [
      "105 45 11 6 [10, 50, 150]\n"
     ]
    }
   ],
   "source": [
    "print(len(train), len(test), subset_length, max_depth, tree_nums)"
   ]
  },
  {
   "cell_type": "code",
   "execution_count": 92,
   "id": "26c833ee",
   "metadata": {},
   "outputs": [
    {
     "name": "stdout",
     "output_type": "stream",
     "text": [
      "Results for: gini_index_calculation\n",
      "# of Correct classifications: 31 | total: 45 | accuracy: 68.889 | training time: 1.179 sec\n",
      "# of Correct classifications: 32 | total: 45 | accuracy: 71.111 | training time: 5.429 sec\n",
      "# of Correct classifications: 32 | total: 45 | accuracy: 71.111 | training time: 16.432 sec\n",
      "Results for: entropy_calculation\n",
      "# of Correct classifications: 32 | total: 45 | accuracy: 71.111 | training time: 1.326 sec\n",
      "# of Correct classifications: 32 | total: 45 | accuracy: 71.111 | training time: 5.727 sec\n",
      "# of Correct classifications: 32 | total: 45 | accuracy: 71.111 | training time: 18.786 sec\n",
      "Results for: misclassification_calculation\n",
      "# of Correct classifications: 31 | total: 45 | accuracy: 68.889 | training time: 1.914 sec\n",
      "# of Correct classifications: 34 | total: 45 | accuracy: 75.556 | training time: 10.069 sec\n",
      "# of Correct classifications: 33 | total: 45 | accuracy: 73.333 | training time: 34.11 sec\n"
     ]
    }
   ],
   "source": [
    "for rand_feature_len in M:\n",
    "    iris_predictions, iris_correct, iris_acc = [], [], []\n",
    "    for idx, calculation in enumerate(calculation_options):\n",
    "        print(\"Results for: %s\" % calculation_options[idx].__name__)\n",
    "        p_, c_, a_ = [], [], []\n",
    "        for num_of_trees in tree_nums:            \n",
    "            st_ = time.time()\n",
    "            trained_trees = random_forest(train, features, subset_length, max_depth, num_of_trees, calculation,rand_feature_len)\n",
    "            et_ = round((time.time() - st_), 3)\n",
    "            predictions = predict_data_with_trees(test, trained_trees, num_of_trees)\n",
    "            correct, total, accuracy = score(test, predictions)\n",
    "            p_.append(predictions)\n",
    "            c_.append(correct)\n",
    "            a_.append(accuracy)\n",
    "            print(f\"# of Correct classifications: {correct} | total: {total} | accuracy: {round(accuracy, 3)} | training time: {et_} sec\")\n",
    "        iris_acc.append(a_)\n",
    "        iris_correct.append(c_)\n",
    "        iris_predictions.append(p_)"
   ]
  },
  {
   "cell_type": "code",
   "execution_count": 93,
   "id": "86cb4c1f",
   "metadata": {},
   "outputs": [
    {
     "name": "stdout",
     "output_type": "stream",
     "text": [
      "[[31, 32, 32], [32, 32, 32], [31, 34, 33]]\n"
     ]
    }
   ],
   "source": [
    "print(iris_correct)"
   ]
  },
  {
   "cell_type": "code",
   "execution_count": 94,
   "id": "e00889c6",
   "metadata": {},
   "outputs": [
    {
     "data": {
      "text/plain": [
       "Text(0.5, 1.0, 'Iris Data Set Accuracy')"
      ]
     },
     "execution_count": 94,
     "metadata": {},
     "output_type": "execute_result"
    },
    {
     "data": {
      "image/png": "[encoded data removed]",
      "text/plain": [
       "<Figure size 720x360 with 1 Axes>"
      ]
     },
     "metadata": {
      "needs_background": "light"
     },
     "output_type": "display_data"
    }
   ],
   "source": [
    "num_of_trees = [50,100,150]\n",
    "Iris_Gini = np.array(iris_correct[0]) / 45\n",
    "Iris_Entropy = np.array(iris_correct[1]) / 45\n",
    "Iris_Misclassification = np.array(iris_correct[2]) / 45\n",
    "\n",
    "fig = plt.figure(figsize=(10,5))\n",
    "ax = fig.add_axes([0,0,1,1])\n",
    "num_of_trees = np.array(num_of_trees)\n",
    "ax.bar(num_of_trees-10, Iris_Misclassification*100, color = 'navy', width = 10)\n",
    "ax.bar(num_of_trees, Iris_Entropy*100, color='g',width=10)\n",
    "ax.bar(num_of_trees+10,Iris_Gini*100,color='darkorange',width=10)\n",
    "#ax.set_xticks()\n",
    "ax.set_yticks(np.arange(50,90, 5))\n",
    "ax.set_ylabel(\"Accuracy (%)\", fontsize = 15)\n",
    "ax.set_xlabel(\"Number of decision trees\", fontsize = 15)\n",
    "ax.legend(['Misclassification','Entropy','Gini Index'], fontsize = 15)\n",
    "plt.ylim([50,90])\n",
    "plt.title(\"Iris Data Set Accuracy\", fontsize = 15)\n",
    "\n",
    "#plt.savefig('out/acc_iris.jpg')"
   ]
  },
  {
   "cell_type": "code",
   "execution_count": 95,
   "id": "e18f24ef",
   "metadata": {},
   "outputs": [
    {
     "data": {
      "text/html": [
       "<div>\n",
       "<style scoped>\n",
       "    .dataframe tbody tr th:only-of-type {\n",
       "        vertical-align: middle;\n",
       "    }\n",
       "\n",
       "    .dataframe tbody tr th {\n",
       "        vertical-align: top;\n",
       "    }\n",
       "\n",
       "    .dataframe thead th {\n",
       "        text-align: right;\n",
       "    }\n",
       "</style>\n",
       "<table border=\"1\" class=\"dataframe\">\n",
       "  <thead>\n",
       "    <tr style=\"text-align: right;\">\n",
       "      <th></th>\n",
       "      <th>age</th>\n",
       "      <th>workclass</th>\n",
       "      <th>fnlwgt</th>\n",
       "      <th>education</th>\n",
       "      <th>education-num</th>\n",
       "      <th>marital-status</th>\n",
       "      <th>occupation</th>\n",
       "      <th>relationship</th>\n",
       "      <th>race</th>\n",
       "      <th>sex</th>\n",
       "      <th>capital-gain</th>\n",
       "      <th>capital-loss</th>\n",
       "      <th>hours-per-week</th>\n",
       "      <th>native-country</th>\n",
       "      <th>class</th>\n",
       "    </tr>\n",
       "  </thead>\n",
       "  <tbody>\n",
       "    <tr>\n",
       "      <td>0</td>\n",
       "      <td>39</td>\n",
       "      <td>State-gov</td>\n",
       "      <td>77516</td>\n",
       "      <td>Bachelors</td>\n",
       "      <td>13</td>\n",
       "      <td>Never-married</td>\n",
       "      <td>Adm-clerical</td>\n",
       "      <td>Not-in-family</td>\n",
       "      <td>White</td>\n",
       "      <td>Male</td>\n",
       "      <td>2174</td>\n",
       "      <td>0</td>\n",
       "      <td>40</td>\n",
       "      <td>United-States</td>\n",
       "      <td>&lt;=50K</td>\n",
       "    </tr>\n",
       "    <tr>\n",
       "      <td>1</td>\n",
       "      <td>50</td>\n",
       "      <td>Self-emp-not-inc</td>\n",
       "      <td>83311</td>\n",
       "      <td>Bachelors</td>\n",
       "      <td>13</td>\n",
       "      <td>Married-civ-spouse</td>\n",
       "      <td>Exec-managerial</td>\n",
       "      <td>Husband</td>\n",
       "      <td>White</td>\n",
       "      <td>Male</td>\n",
       "      <td>0</td>\n",
       "      <td>0</td>\n",
       "      <td>13</td>\n",
       "      <td>United-States</td>\n",
       "      <td>&lt;=50K</td>\n",
       "    </tr>\n",
       "    <tr>\n",
       "      <td>2</td>\n",
       "      <td>38</td>\n",
       "      <td>Private</td>\n",
       "      <td>215646</td>\n",
       "      <td>HS-grad</td>\n",
       "      <td>9</td>\n",
       "      <td>Divorced</td>\n",
       "      <td>Handlers-cleaners</td>\n",
       "      <td>Not-in-family</td>\n",
       "      <td>White</td>\n",
       "      <td>Male</td>\n",
       "      <td>0</td>\n",
       "      <td>0</td>\n",
       "      <td>40</td>\n",
       "      <td>United-States</td>\n",
       "      <td>&lt;=50K</td>\n",
       "    </tr>\n",
       "    <tr>\n",
       "      <td>3</td>\n",
       "      <td>53</td>\n",
       "      <td>Private</td>\n",
       "      <td>234721</td>\n",
       "      <td>11th</td>\n",
       "      <td>7</td>\n",
       "      <td>Married-civ-spouse</td>\n",
       "      <td>Handlers-cleaners</td>\n",
       "      <td>Husband</td>\n",
       "      <td>Black</td>\n",
       "      <td>Male</td>\n",
       "      <td>0</td>\n",
       "      <td>0</td>\n",
       "      <td>40</td>\n",
       "      <td>United-States</td>\n",
       "      <td>&lt;=50K</td>\n",
       "    </tr>\n",
       "    <tr>\n",
       "      <td>4</td>\n",
       "      <td>28</td>\n",
       "      <td>Private</td>\n",
       "      <td>338409</td>\n",
       "      <td>Bachelors</td>\n",
       "      <td>13</td>\n",
       "      <td>Married-civ-spouse</td>\n",
       "      <td>Prof-specialty</td>\n",
       "      <td>Wife</td>\n",
       "      <td>Black</td>\n",
       "      <td>Female</td>\n",
       "      <td>0</td>\n",
       "      <td>0</td>\n",
       "      <td>40</td>\n",
       "      <td>Cuba</td>\n",
       "      <td>&lt;=50K</td>\n",
       "    </tr>\n",
       "  </tbody>\n",
       "</table>\n",
       "</div>"
      ],
      "text/plain": [
       "   age          workclass  fnlwgt   education  education-num  \\\n",
       "0   39          State-gov   77516   Bachelors             13   \n",
       "1   50   Self-emp-not-inc   83311   Bachelors             13   \n",
       "2   38            Private  215646     HS-grad              9   \n",
       "3   53            Private  234721        11th              7   \n",
       "4   28            Private  338409   Bachelors             13   \n",
       "\n",
       "        marital-status          occupation    relationship    race      sex  \\\n",
       "0        Never-married        Adm-clerical   Not-in-family   White     Male   \n",
       "1   Married-civ-spouse     Exec-managerial         Husband   White     Male   \n",
       "2             Divorced   Handlers-cleaners   Not-in-family   White     Male   \n",
       "3   Married-civ-spouse   Handlers-cleaners         Husband   Black     Male   \n",
       "4   Married-civ-spouse      Prof-specialty            Wife   Black   Female   \n",
       "\n",
       "   capital-gain  capital-loss  hours-per-week  native-country   class  \n",
       "0          2174             0              40   United-States   <=50K  \n",
       "1             0             0              13   United-States   <=50K  \n",
       "2             0             0              40   United-States   <=50K  \n",
       "3             0             0              40   United-States   <=50K  \n",
       "4             0             0              40            Cuba   <=50K  "
      ]
     },
     "execution_count": 95,
     "metadata": {},
     "output_type": "execute_result"
    }
   ],
   "source": [
    "f_names = ['age','workclass','fnlwgt','education','education-num','marital-status','occupation','relationship','race','sex','capital-gain','capital-loss','hours-per-week','native-country','class']\n",
    "adult = pd.read_csv('https://archive.ics.uci.edu/ml/machine-learning-databases/adult/adult.data', names = f_names)\n",
    "adult.head()"
   ]
  },
  {
   "cell_type": "code",
   "execution_count": 96,
   "id": "689c4d9d",
   "metadata": {},
   "outputs": [
    {
     "data": {
      "text/html": [
       "<div>\n",
       "<style scoped>\n",
       "    .dataframe tbody tr th:only-of-type {\n",
       "        vertical-align: middle;\n",
       "    }\n",
       "\n",
       "    .dataframe tbody tr th {\n",
       "        vertical-align: top;\n",
       "    }\n",
       "\n",
       "    .dataframe thead th {\n",
       "        text-align: right;\n",
       "    }\n",
       "</style>\n",
       "<table border=\"1\" class=\"dataframe\">\n",
       "  <thead>\n",
       "    <tr style=\"text-align: right;\">\n",
       "      <th></th>\n",
       "      <th>age</th>\n",
       "      <th>workclass</th>\n",
       "      <th>fnlwgt</th>\n",
       "      <th>education</th>\n",
       "      <th>education-num</th>\n",
       "      <th>marital-status</th>\n",
       "      <th>occupation</th>\n",
       "      <th>relationship</th>\n",
       "      <th>race</th>\n",
       "      <th>sex</th>\n",
       "      <th>capital-gain</th>\n",
       "      <th>capital-loss</th>\n",
       "      <th>hours-per-week</th>\n",
       "      <th>native-country</th>\n",
       "      <th>class</th>\n",
       "    </tr>\n",
       "  </thead>\n",
       "  <tbody>\n",
       "    <tr>\n",
       "      <td>0</td>\n",
       "      <td>39</td>\n",
       "      <td>State-gov</td>\n",
       "      <td>77516</td>\n",
       "      <td>Bachelors</td>\n",
       "      <td>13</td>\n",
       "      <td>Never-married</td>\n",
       "      <td>Adm-clerical</td>\n",
       "      <td>Not-in-family</td>\n",
       "      <td>White</td>\n",
       "      <td>Male</td>\n",
       "      <td>2174</td>\n",
       "      <td>0</td>\n",
       "      <td>40</td>\n",
       "      <td>United-States</td>\n",
       "      <td>0</td>\n",
       "    </tr>\n",
       "    <tr>\n",
       "      <td>1</td>\n",
       "      <td>50</td>\n",
       "      <td>Self-emp-not-inc</td>\n",
       "      <td>83311</td>\n",
       "      <td>Bachelors</td>\n",
       "      <td>13</td>\n",
       "      <td>Married-civ-spouse</td>\n",
       "      <td>Exec-managerial</td>\n",
       "      <td>Husband</td>\n",
       "      <td>White</td>\n",
       "      <td>Male</td>\n",
       "      <td>0</td>\n",
       "      <td>0</td>\n",
       "      <td>13</td>\n",
       "      <td>United-States</td>\n",
       "      <td>0</td>\n",
       "    </tr>\n",
       "    <tr>\n",
       "      <td>2</td>\n",
       "      <td>38</td>\n",
       "      <td>Private</td>\n",
       "      <td>215646</td>\n",
       "      <td>HS-grad</td>\n",
       "      <td>9</td>\n",
       "      <td>Divorced</td>\n",
       "      <td>Handlers-cleaners</td>\n",
       "      <td>Not-in-family</td>\n",
       "      <td>White</td>\n",
       "      <td>Male</td>\n",
       "      <td>0</td>\n",
       "      <td>0</td>\n",
       "      <td>40</td>\n",
       "      <td>United-States</td>\n",
       "      <td>0</td>\n",
       "    </tr>\n",
       "    <tr>\n",
       "      <td>3</td>\n",
       "      <td>53</td>\n",
       "      <td>Private</td>\n",
       "      <td>234721</td>\n",
       "      <td>11th</td>\n",
       "      <td>7</td>\n",
       "      <td>Married-civ-spouse</td>\n",
       "      <td>Handlers-cleaners</td>\n",
       "      <td>Husband</td>\n",
       "      <td>Black</td>\n",
       "      <td>Male</td>\n",
       "      <td>0</td>\n",
       "      <td>0</td>\n",
       "      <td>40</td>\n",
       "      <td>United-States</td>\n",
       "      <td>0</td>\n",
       "    </tr>\n",
       "    <tr>\n",
       "      <td>4</td>\n",
       "      <td>28</td>\n",
       "      <td>Private</td>\n",
       "      <td>338409</td>\n",
       "      <td>Bachelors</td>\n",
       "      <td>13</td>\n",
       "      <td>Married-civ-spouse</td>\n",
       "      <td>Prof-specialty</td>\n",
       "      <td>Wife</td>\n",
       "      <td>Black</td>\n",
       "      <td>Female</td>\n",
       "      <td>0</td>\n",
       "      <td>0</td>\n",
       "      <td>40</td>\n",
       "      <td>Cuba</td>\n",
       "      <td>0</td>\n",
       "    </tr>\n",
       "  </tbody>\n",
       "</table>\n",
       "</div>"
      ],
      "text/plain": [
       "   age          workclass  fnlwgt   education  education-num  \\\n",
       "0   39          State-gov   77516   Bachelors             13   \n",
       "1   50   Self-emp-not-inc   83311   Bachelors             13   \n",
       "2   38            Private  215646     HS-grad              9   \n",
       "3   53            Private  234721        11th              7   \n",
       "4   28            Private  338409   Bachelors             13   \n",
       "\n",
       "        marital-status          occupation    relationship    race      sex  \\\n",
       "0        Never-married        Adm-clerical   Not-in-family   White     Male   \n",
       "1   Married-civ-spouse     Exec-managerial         Husband   White     Male   \n",
       "2             Divorced   Handlers-cleaners   Not-in-family   White     Male   \n",
       "3   Married-civ-spouse   Handlers-cleaners         Husband   Black     Male   \n",
       "4   Married-civ-spouse      Prof-specialty            Wife   Black   Female   \n",
       "\n",
       "   capital-gain  capital-loss  hours-per-week  native-country  class  \n",
       "0          2174             0              40   United-States      0  \n",
       "1             0             0              13   United-States      0  \n",
       "2             0             0              40   United-States      0  \n",
       "3             0             0              40   United-States      0  \n",
       "4             0             0              40            Cuba      0  "
      ]
     },
     "execution_count": 96,
     "metadata": {},
     "output_type": "execute_result"
    }
   ],
   "source": [
    "features = {'age':0,\n",
    "            'workclass':[\"Private\", \"Self-emp-not-inc\", \"Self-emp-inc\", \"Federal-gov\", \"Local-gov\", \"State-gov\", \"Without-pay\", \"Never-worked\"],\n",
    "            'fnlwgt':0,\n",
    "            'education':['Bachelors', 'Some-college', '11th', 'HS-grad', 'Prof-school', 'Assoc-acdm', 'Assoc-voc', '9th', '7th-8th', '12th', 'Masters', '1st-4th', '10th', 'Doctorate', '5th-6th', 'Preschool'],\n",
    "            'education-num':0,\n",
    "            'marital-status':['Married-civ-spouse', 'Divorced', 'Never-married', 'Separated', 'Widowed', 'Married-spouse-absent', 'Married-AF-spouse'],\n",
    "            'occupation':['Tech-support', 'Craft-repair', 'Other-service', 'Sales', 'Exec-managerial', 'Prof-specialty', 'Handlers-cleaners', 'Machine-op-inspct', 'Adm-clerical', 'Farming-fishing', 'Transport-moving', 'Priv-house-serv', 'Protective-serv', 'Armed-Forces'],\n",
    "            'relationship':['Wife', 'Own-child', 'Husband', 'Not-in-family', 'Other-relative', 'Unmarried'],\n",
    "            'race':['White', 'Asian-Pac-Islander', 'Amer-Indian-Eskimo', 'Other', 'Black'],\n",
    "            'sex':['Female', 'Male'],\n",
    "            'capital-gain':0,\n",
    "            'capital-loss':0,\n",
    "            'hours-per-week':0,\n",
    "            'native-country':['United-States', 'Cambodia', 'England', 'Puerto-Rico', 'Canada', 'Germany', 'Outlying-US(Guam-USVI-etc)', 'India', 'Japan', 'Greece', 'South', 'China', 'Cuba', 'Iran', 'Honduras', 'Philippines', 'Italy', 'Poland', 'Jamaica', 'Vietnam', 'Mexico', 'Portugal', \n",
    "                                'Ireland', 'France', 'Dominican-Republic', 'Laos', 'Ecuador', 'Taiwan', 'Haiti', 'Columbia', 'Hungary', 'Guatemala', 'Nicaragua', 'Scotland', 'Thailand', 'Yugoslavia', 'El-Salvador', 'Trinadad&Tobago', 'Peru', 'Hong', 'Holand-Netherlands']}\n",
    "labelEnc.fit(adult['class'])\n",
    "adult['class'] = labelEnc.transform(adult['class'])\n",
    "adult.head()"
   ]
  },
  {
   "cell_type": "code",
   "execution_count": null,
   "id": "c4b138f7",
   "metadata": {},
   "outputs": [],
   "source": [
    "max_depth = 10\n",
    "length_of_data = len(adult)\n",
    "train, test = train_test_split(adult, test_size = 0.3, random_state = 42, shuffle=True)\n",
    "subset_length = ceil(sqrt(len(train)))\n",
    "print(\"Subset Length: %d\" % subset_length)\n",
    "tree_nums = [50,100,150]\n",
    "adult_predictions, adult_correct, adult_acc = [], [], []\n",
    "for idx, calculation in enumerate(calculation_options):\n",
    "    print(\"Results for: %s\" % calculation_options[idx].__name__)\n",
    "    p_, c_, a_ = [], [], []\n",
    "    for num_of_trees in tree_nums:        \n",
    "        st_ = time.time()\n",
    "        trained_trees = random_forest(train, features, subset_length, max_depth, num_of_trees, calculation,rand_feature_len)\n",
    "        et_ = round((time.time() - st_), 3)\n",
    "        predictions = predict_data_with_trees(test, trained_trees, num_of_trees)\n",
    "        correct, total, accuracy = score(test, predictions)\n",
    "        p_.append(predictions)\n",
    "        c_.append(correct)\n",
    "        a_.append(accuracy)\n",
    "        print(f\"# of Correct classifications: {correct} | total: {total} | accuracy: {round(accuracy, 3)} | training time: {et_} sec\")\n",
    "    adult_acc.append(a_)\n",
    "    adult_correct.append(c_)\n",
    "    adult_predictions.append(p_)"
   ]
  },
  {
   "cell_type": "code",
   "execution_count": 80,
   "id": "5d16fcf6",
   "metadata": {},
   "outputs": [
    {
     "name": "stdout",
     "output_type": "stream",
     "text": [
      "[[7455, 7455, 7455], [1188, 1188, 1188], [1188, 1188, 1188], [1183, 1180, 1180]]\n"
     ]
    }
   ],
   "source": [
    "print(adult_correct)"
   ]
  },
  {
   "cell_type": "code",
   "execution_count": 81,
   "id": "67a16036",
   "metadata": {},
   "outputs": [
    {
     "data": {
      "text/plain": [
       "Text(0.5, 1.0, 'Iris Data Set Accuracy')"
      ]
     },
     "execution_count": 81,
     "metadata": {},
     "output_type": "execute_result"
    },
    {
     "data": {
      "image/png": "[encoded data removed]",
      "text/plain": [
       "<Figure size 720x360 with 1 Axes>"
      ]
     },
     "metadata": {
      "needs_background": "light"
     },
     "output_type": "display_data"
    }
   ],
   "source": [
    "num_of_trees = [50,100,150]\n",
    "adult_Gini = np.array(adult_correct[0]) / len(test) \n",
    "adult_Entropy = np.array(adult_correct[1]) / len(test) \n",
    "adult_Misclassification = np.array(adult_correct[2]) / len(test) \n",
    "\n",
    "fig = plt.figure(figsize=(10,5))\n",
    "ax = fig.add_axes([0,0,1,1])\n",
    "num_of_trees = np.array(num_of_trees)\n",
    "ax.bar(num_of_trees-10, adult_Misclassification*100, color = 'navy', width = 10)\n",
    "ax.bar(num_of_trees, adult_Entropy*100, color='g',width=10)\n",
    "ax.bar(num_of_trees+10,adult_Gini*100,color='darkorange',width=10)\n",
    "#ax.set_xticks()\n",
    "ax.set_yticks(np.arange(60,100, 2))\n",
    "ax.set_ylabel(\"Accuracy (%)\", fontsize = 15)\n",
    "ax.set_xlabel(\"Number of decision trees\", fontsize = 15)\n",
    "ax.legend(['Misclassification','Entropy','Gini Index'], fontsize = 15)\n",
    "plt.ylim([60,100])\n",
    "plt.title(\"Adult Data Set Accuracy\", fontsize = 15)\n",
    "\n",
    "#plt.savefig('out/acc_adult.jpg')"
   ]
  },
  {
   "cell_type": "code",
   "execution_count": 98,
   "id": "ea16d3da",
   "metadata": {},
   "outputs": [
    {
     "data": {
      "text/html": [
       "<div>\n",
       "<style scoped>\n",
       "    .dataframe tbody tr th:only-of-type {\n",
       "        vertical-align: middle;\n",
       "    }\n",
       "\n",
       "    .dataframe tbody tr th {\n",
       "        vertical-align: top;\n",
       "    }\n",
       "\n",
       "    .dataframe thead th {\n",
       "        text-align: right;\n",
       "    }\n",
       "</style>\n",
       "<table border=\"1\" class=\"dataframe\">\n",
       "  <thead>\n",
       "    <tr style=\"text-align: right;\">\n",
       "      <th></th>\n",
       "      <th>Unnamed: 0</th>\n",
       "      <th>0</th>\n",
       "      <th>1</th>\n",
       "      <th>class</th>\n",
       "    </tr>\n",
       "  </thead>\n",
       "  <tbody>\n",
       "    <tr>\n",
       "      <td>0</td>\n",
       "      <td>0</td>\n",
       "      <td>1.804935</td>\n",
       "      <td>1.584168</td>\n",
       "      <td>0</td>\n",
       "    </tr>\n",
       "    <tr>\n",
       "      <td>1</td>\n",
       "      <td>1</td>\n",
       "      <td>5.182373</td>\n",
       "      <td>2.871899</td>\n",
       "      <td>1</td>\n",
       "    </tr>\n",
       "    <tr>\n",
       "      <td>2</td>\n",
       "      <td>2</td>\n",
       "      <td>2.146936</td>\n",
       "      <td>1.542081</td>\n",
       "      <td>0</td>\n",
       "    </tr>\n",
       "    <tr>\n",
       "      <td>3</td>\n",
       "      <td>3</td>\n",
       "      <td>5.055332</td>\n",
       "      <td>3.235553</td>\n",
       "      <td>1</td>\n",
       "    </tr>\n",
       "    <tr>\n",
       "      <td>4</td>\n",
       "      <td>4</td>\n",
       "      <td>5.159758</td>\n",
       "      <td>3.095634</td>\n",
       "      <td>1</td>\n",
       "    </tr>\n",
       "  </tbody>\n",
       "</table>\n",
       "</div>"
      ],
      "text/plain": [
       "   Unnamed: 0         0         1  class\n",
       "0           0  1.804935  1.584168      0\n",
       "1           1  5.182373  2.871899      1\n",
       "2           2  2.146936  1.542081      0\n",
       "3           3  5.055332  3.235553      1\n",
       "4           4  5.159758  3.095634      1"
      ]
     },
     "execution_count": 98,
     "metadata": {},
     "output_type": "execute_result"
    }
   ],
   "source": [
    "#blobs dataset\n",
    "f_names = [\"id\",\"x\",\"y\",\"class\"]\n",
    "blobs = pd.read_csv('blobs.csv')\n",
    "blobs.head()"
   ]
  },
  {
   "cell_type": "code",
   "execution_count": 100,
   "id": "43955cbf",
   "metadata": {},
   "outputs": [],
   "source": [
    "features = {\"0\":0, \"1\":0}\n",
    "max_depth = 10\n",
    "tree_nums = [10,50,150]\n",
    "train,test = train_test_split(blobs, test_size=0.3,random_state = 42, shuffle=True)\n",
    "subset_length = ceil(sqrt(len(train)))\n",
    "calculation_options = [gini_index_calculation, entropy_calculation, misclassification_calculation]"
   ]
  },
  {
   "cell_type": "code",
   "execution_count": 101,
   "id": "0c96ca19",
   "metadata": {},
   "outputs": [
    {
     "name": "stdout",
     "output_type": "stream",
     "text": [
      "Results for: gini_index_calculation\n",
      "# of Correct classifications: 1188 | total: 1200 | accuracy: 99.0 | training time: 3.66 sec\n",
      "# of Correct classifications: 1188 | total: 1200 | accuracy: 99.0 | training time: 15.243 sec\n",
      "# of Correct classifications: 1188 | total: 1200 | accuracy: 99.0 | training time: 44.988 sec\n",
      "Results for: entropy_calculation\n",
      "# of Correct classifications: 1188 | total: 1200 | accuracy: 99.0 | training time: 3.415 sec\n",
      "# of Correct classifications: 1188 | total: 1200 | accuracy: 99.0 | training time: 15.806 sec\n",
      "# of Correct classifications: 1188 | total: 1200 | accuracy: 99.0 | training time: 46.159 sec\n",
      "Results for: misclassification_calculation\n",
      "# of Correct classifications: 1176 | total: 1200 | accuracy: 98.0 | training time: 10.869 sec\n",
      "# of Correct classifications: 1182 | total: 1200 | accuracy: 98.5 | training time: 40.269 sec\n",
      "# of Correct classifications: 1180 | total: 1200 | accuracy: 98.333 | training time: 122.883 sec\n"
     ]
    }
   ],
   "source": [
    "blobs_predictions, blobs_correct, blobs_acc = [], [], []\n",
    "for idx, calculation in enumerate(calculation_options):\n",
    "    print(\"Results for: %s\" % calculation_options[idx].__name__)\n",
    "    p_, c_, a_ = [], [], []\n",
    "    for num_of_trees in tree_nums:        \n",
    "        st_ = time.time()\n",
    "        trained_trees = random_forest(train, features, subset_length, max_depth, num_of_trees, calculation,rand_feature_len)\n",
    "        et_ = round((time.time() - st_), 3)\n",
    "        predictions = predict_data_with_trees(test, trained_trees, num_of_trees)\n",
    "        correct, total, accuracy = score(test, predictions)\n",
    "        p_.append(predictions)\n",
    "        c_.append(correct)\n",
    "        a_.append(accuracy)\n",
    "        print(f\"# of Correct classifications: {correct} | total: {total} | accuracy: {round(accuracy, 3)} | training time: {et_} sec\")\n",
    "    blobs_acc.append(a_)\n",
    "    blobs_correct.append(c_)\n",
    "    blobs_predictions.append(p_)"
   ]
  },
  {
   "cell_type": "code",
   "execution_count": 112,
   "id": "801bc2ba",
   "metadata": {},
   "outputs": [
    {
     "name": "stdout",
     "output_type": "stream",
     "text": [
      "[98.0, 98.5, 98.33333333333333]\n"
     ]
    }
   ],
   "source": [
    "print(blobs_acc[2])"
   ]
  },
  {
   "cell_type": "code",
   "execution_count": 113,
   "id": "12b2a8d8",
   "metadata": {},
   "outputs": [
    {
     "data": {
      "text/plain": [
       "Text(0.5, 1.0, 'Blobs Data Set Accuracy')"
      ]
     },
     "execution_count": 113,
     "metadata": {},
     "output_type": "execute_result"
    },
    {
     "data": {
      "image/png": "[encoded data removed]",
      "text/plain": [
       "<Figure size 720x360 with 1 Axes>"
      ]
     },
     "metadata": {
      "needs_background": "light"
     },
     "output_type": "display_data"
    }
   ],
   "source": [
    "num_of_trees = [50,100,150]\n",
    "blobs_Gini = np.array(blobs_acc[0])\n",
    "blobs_Entropy = np.array(blobs_acc[1])\n",
    "blobs_Misclassification = np.array(blobs_acc[2])\n",
    "\n",
    "fig = plt.figure(figsize=(10,5))\n",
    "ax = fig.add_axes([0,0,1,1])\n",
    "num_of_trees = np.array(num_of_trees)\n",
    "ax.bar(num_of_trees-10, blobs_Misclassification, color = 'navy', width = 10)\n",
    "ax.bar(num_of_trees, blobs_Entropy, color='g',width=10)\n",
    "ax.bar(num_of_trees+10,blobs_Gini,color='darkorange',width=10)\n",
    "#ax.set_xticks()\n",
    "ax.set_yticks(np.arange(90,100, 1))\n",
    "ax.set_ylabel(\"Accuracy (%)\", fontsize = 15)\n",
    "ax.set_xlabel(\"Number of decision trees\", fontsize = 15)\n",
    "ax.legend(['Misclassification','Entropy','Gini Index'], fontsize = 15)\n",
    "plt.ylim([90,100])\n",
    "plt.title(\"Blobs Data Set Accuracy\", fontsize = 15)\n",
    "\n",
    "#plt.savefig('out/acc_blobs.jpg')"
   ]
  },
  {
   "cell_type": "code",
   "execution_count": 114,
   "id": "1ff02998",
   "metadata": {},
   "outputs": [
    {
     "data": {
      "text/html": [
       "<div>\n",
       "<style scoped>\n",
       "    .dataframe tbody tr th:only-of-type {\n",
       "        vertical-align: middle;\n",
       "    }\n",
       "\n",
       "    .dataframe tbody tr th {\n",
       "        vertical-align: top;\n",
       "    }\n",
       "\n",
       "    .dataframe thead th {\n",
       "        text-align: right;\n",
       "    }\n",
       "</style>\n",
       "<table border=\"1\" class=\"dataframe\">\n",
       "  <thead>\n",
       "    <tr style=\"text-align: right;\">\n",
       "      <th></th>\n",
       "      <th>Unnamed: 0</th>\n",
       "      <th>x</th>\n",
       "      <th>y</th>\n",
       "      <th>class</th>\n",
       "    </tr>\n",
       "  </thead>\n",
       "  <tbody>\n",
       "    <tr>\n",
       "      <td>0</td>\n",
       "      <td>0</td>\n",
       "      <td>-0.564488</td>\n",
       "      <td>0.154728</td>\n",
       "      <td>0</td>\n",
       "    </tr>\n",
       "    <tr>\n",
       "      <td>1</td>\n",
       "      <td>1</td>\n",
       "      <td>0.394181</td>\n",
       "      <td>0.165268</td>\n",
       "      <td>0</td>\n",
       "    </tr>\n",
       "    <tr>\n",
       "      <td>2</td>\n",
       "      <td>2</td>\n",
       "      <td>-0.647047</td>\n",
       "      <td>-0.311047</td>\n",
       "      <td>0</td>\n",
       "    </tr>\n",
       "    <tr>\n",
       "      <td>3</td>\n",
       "      <td>3</td>\n",
       "      <td>-0.348048</td>\n",
       "      <td>-0.004684</td>\n",
       "      <td>1</td>\n",
       "    </tr>\n",
       "    <tr>\n",
       "      <td>4</td>\n",
       "      <td>4</td>\n",
       "      <td>0.250432</td>\n",
       "      <td>0.183623</td>\n",
       "      <td>0</td>\n",
       "    </tr>\n",
       "  </tbody>\n",
       "</table>\n",
       "</div>"
      ],
      "text/plain": [
       "   Unnamed: 0         x         y  class\n",
       "0           0 -0.564488  0.154728      0\n",
       "1           1  0.394181  0.165268      0\n",
       "2           2 -0.647047 -0.311047      0\n",
       "3           3 -0.348048 -0.004684      1\n",
       "4           4  0.250432  0.183623      0"
      ]
     },
     "execution_count": 114,
     "metadata": {},
     "output_type": "execute_result"
    }
   ],
   "source": [
    "#spirals dataset\n",
    "f_names = [\"id\",\"x\",\"y\",\"class\"]\n",
    "spirals = pd.read_csv('spirals.csv')\n",
    "spirals.head()"
   ]
  },
  {
   "cell_type": "code",
   "execution_count": 115,
   "id": "d2b6eda5",
   "metadata": {},
   "outputs": [],
   "source": [
    "features = {\"x\":0,\"y\":0}\n",
    "max_depth = 10\n",
    "tree_nums = [10,50,150]\n",
    "train,test = train_test_split(spirals, test_size=0.3,random_state = 42, shuffle=True)\n",
    "subset_length = ceil(sqrt(len(train)))\n",
    "calculation_options = [gini_index_calculation, entropy_calculation, misclassification_calculation]"
   ]
  },
  {
   "cell_type": "code",
   "execution_count": 117,
   "id": "6e8a69a1",
   "metadata": {},
   "outputs": [
    {
     "name": "stdout",
     "output_type": "stream",
     "text": [
      "Results for: gini_index_calculation\n",
      "# of Correct classifications: 180 | total: 300 | accuracy: 60.0 | training time: 6.389 sec\n",
      "# of Correct classifications: 180 | total: 300 | accuracy: 60.0 | training time: 32.344 sec\n",
      "# of Correct classifications: 180 | total: 300 | accuracy: 60.0 | training time: 106.724 sec\n",
      "Results for: entropy_calculation\n",
      "# of Correct classifications: 157 | total: 300 | accuracy: 52.333 | training time: 15.862 sec\n",
      "# of Correct classifications: 157 | total: 300 | accuracy: 52.333 | training time: 78.934 sec\n",
      "# of Correct classifications: 157 | total: 300 | accuracy: 52.333 | training time: 231.768 sec\n",
      "Results for: misclassification_calculation\n",
      "# of Correct classifications: 146 | total: 300 | accuracy: 48.667 | training time: 12.981 sec\n",
      "# of Correct classifications: 146 | total: 300 | accuracy: 48.667 | training time: 67.441 sec\n",
      "# of Correct classifications: 146 | total: 300 | accuracy: 48.667 | training time: 200.287 sec\n"
     ]
    }
   ],
   "source": [
    "spirals_predictions, spirals_correct, spirals_acc = [], [], []\n",
    "for idx, calculation in enumerate(calculation_options):\n",
    "    p_, c_, a_ = [], [], []\n",
    "    print(\"Results for: %s\" % calculation_options[idx].__name__)\n",
    "    for num_of_trees in tree_nums:\n",
    "        st_ = time.time()\n",
    "        trained_trees = random_forest(train, features, subset_length, max_depth, num_of_trees, calculation,rand_feature_len)\n",
    "        et_ = round((time.time() - st_), 3)\n",
    "        predictions = predict_data_with_trees(test, trained_trees, num_of_trees)\n",
    "        correct, total, accuracy = score(test, predictions)\n",
    "        p_.append(predictions)\n",
    "        c_.append(correct)\n",
    "        a_.append(accuracy)\n",
    "        print(f\"# of Correct classifications: {correct} | total: {total} | accuracy: {round(accuracy, 3)} | training time: {et_} sec\")\n",
    "    spirals_acc.append(a_)\n",
    "    spirals_correct.append(c_)\n",
    "    spirals_predictions.append(p_)"
   ]
  },
  {
   "cell_type": "code",
   "execution_count": 119,
   "id": "517bf797",
   "metadata": {},
   "outputs": [
    {
     "data": {
      "text/plain": [
       "Text(0.5, 1.0, 'Spiral Data Set Accuracy')"
      ]
     },
     "execution_count": 119,
     "metadata": {},
     "output_type": "execute_result"
    },
    {
     "data": {
      "image/png": "[encoded data removed]",
      "text/plain": [
       "<Figure size 720x360 with 1 Axes>"
      ]
     },
     "metadata": {
      "needs_background": "light"
     },
     "output_type": "display_data"
    }
   ],
   "source": [
    "num_of_trees = [50,100,150]\n",
    "spirals_Gini = np.array(spirals_acc[0])\n",
    "spirals_Entropy = np.array(spirals_acc[1])\n",
    "spirals_Misclassification = np.array(spirals_acc[2])\n",
    "\n",
    "fig = plt.figure(figsize=(10,5))\n",
    "ax = fig.add_axes([0,0,1,1])\n",
    "num_of_trees = np.array(num_of_trees)\n",
    "ax.bar(num_of_trees-10, spirals_Misclassification, color = 'navy', width = 10)\n",
    "ax.bar(num_of_trees, spirals_Entropy, color='g',width=10)\n",
    "ax.bar(num_of_trees+10,spirals_Gini,color='darkorange',width=10)\n",
    "ax.set_xticks(num_of_trees, ['10', '50', '100'])\n",
    "ax.set_yticks(np.arange(45,65, 2))\n",
    "ax.set_ylabel(\"Accuracy (%)\", fontsize = 15)\n",
    "ax.set_xlabel(\"Number of decision trees\", fontsize = 15)\n",
    "ax.legend(['Misclassification','Entropy','Gini Index'], fontsize = 15)\n",
    "plt.ylim([45,65])\n",
    "plt.title(\"Spiral Data Set Accuracy\", fontsize = 15)\n",
    "\n",
    "#plt.savefig('out/spirals.jpg')"
   ]
  },
  {
   "cell_type": "code",
   "execution_count": 123,
   "id": "6ef51957",
   "metadata": {},
   "outputs": [
    {
     "data": {
      "text/html": [
       "<div>\n",
       "<style scoped>\n",
       "    .dataframe tbody tr th:only-of-type {\n",
       "        vertical-align: middle;\n",
       "    }\n",
       "\n",
       "    .dataframe tbody tr th {\n",
       "        vertical-align: top;\n",
       "    }\n",
       "\n",
       "    .dataframe thead th {\n",
       "        text-align: right;\n",
       "    }\n",
       "</style>\n",
       "<table border=\"1\" class=\"dataframe\">\n",
       "  <thead>\n",
       "    <tr style=\"text-align: right;\">\n",
       "      <th></th>\n",
       "      <th>0</th>\n",
       "      <th>1</th>\n",
       "      <th>2</th>\n",
       "      <th>3</th>\n",
       "      <th>4</th>\n",
       "      <th>5</th>\n",
       "      <th>6</th>\n",
       "      <th>7</th>\n",
       "      <th>8</th>\n",
       "      <th>9</th>\n",
       "      <th>...</th>\n",
       "      <th>55</th>\n",
       "      <th>56</th>\n",
       "      <th>57</th>\n",
       "      <th>58</th>\n",
       "      <th>59</th>\n",
       "      <th>60</th>\n",
       "      <th>61</th>\n",
       "      <th>62</th>\n",
       "      <th>63</th>\n",
       "      <th>class</th>\n",
       "    </tr>\n",
       "  </thead>\n",
       "  <tbody>\n",
       "    <tr>\n",
       "      <td>0</td>\n",
       "      <td>0.0</td>\n",
       "      <td>0.0</td>\n",
       "      <td>1.0</td>\n",
       "      <td>1.0</td>\n",
       "      <td>1.0</td>\n",
       "      <td>0.0</td>\n",
       "      <td>0.0</td>\n",
       "      <td>0.0</td>\n",
       "      <td>0.0</td>\n",
       "      <td>0.0</td>\n",
       "      <td>...</td>\n",
       "      <td>0.0</td>\n",
       "      <td>0.0</td>\n",
       "      <td>0.0</td>\n",
       "      <td>1.0</td>\n",
       "      <td>1.0</td>\n",
       "      <td>1.0</td>\n",
       "      <td>0.0</td>\n",
       "      <td>0.0</td>\n",
       "      <td>0.0</td>\n",
       "      <td>0</td>\n",
       "    </tr>\n",
       "    <tr>\n",
       "      <td>1</td>\n",
       "      <td>0.0</td>\n",
       "      <td>0.0</td>\n",
       "      <td>0.0</td>\n",
       "      <td>1.0</td>\n",
       "      <td>1.0</td>\n",
       "      <td>1.0</td>\n",
       "      <td>0.0</td>\n",
       "      <td>0.0</td>\n",
       "      <td>0.0</td>\n",
       "      <td>0.0</td>\n",
       "      <td>...</td>\n",
       "      <td>0.0</td>\n",
       "      <td>0.0</td>\n",
       "      <td>0.0</td>\n",
       "      <td>0.0</td>\n",
       "      <td>1.0</td>\n",
       "      <td>1.0</td>\n",
       "      <td>1.0</td>\n",
       "      <td>0.0</td>\n",
       "      <td>0.0</td>\n",
       "      <td>1</td>\n",
       "    </tr>\n",
       "    <tr>\n",
       "      <td>2</td>\n",
       "      <td>0.0</td>\n",
       "      <td>0.0</td>\n",
       "      <td>0.0</td>\n",
       "      <td>0.0</td>\n",
       "      <td>1.0</td>\n",
       "      <td>1.0</td>\n",
       "      <td>0.0</td>\n",
       "      <td>0.0</td>\n",
       "      <td>0.0</td>\n",
       "      <td>0.0</td>\n",
       "      <td>...</td>\n",
       "      <td>0.0</td>\n",
       "      <td>0.0</td>\n",
       "      <td>0.0</td>\n",
       "      <td>0.0</td>\n",
       "      <td>0.0</td>\n",
       "      <td>1.0</td>\n",
       "      <td>1.0</td>\n",
       "      <td>1.0</td>\n",
       "      <td>0.0</td>\n",
       "      <td>2</td>\n",
       "    </tr>\n",
       "    <tr>\n",
       "      <td>3</td>\n",
       "      <td>0.0</td>\n",
       "      <td>0.0</td>\n",
       "      <td>1.0</td>\n",
       "      <td>1.0</td>\n",
       "      <td>1.0</td>\n",
       "      <td>0.0</td>\n",
       "      <td>0.0</td>\n",
       "      <td>0.0</td>\n",
       "      <td>0.0</td>\n",
       "      <td>1.0</td>\n",
       "      <td>...</td>\n",
       "      <td>0.0</td>\n",
       "      <td>0.0</td>\n",
       "      <td>0.0</td>\n",
       "      <td>1.0</td>\n",
       "      <td>1.0</td>\n",
       "      <td>1.0</td>\n",
       "      <td>1.0</td>\n",
       "      <td>0.0</td>\n",
       "      <td>0.0</td>\n",
       "      <td>3</td>\n",
       "    </tr>\n",
       "    <tr>\n",
       "      <td>4</td>\n",
       "      <td>0.0</td>\n",
       "      <td>0.0</td>\n",
       "      <td>0.0</td>\n",
       "      <td>0.0</td>\n",
       "      <td>1.0</td>\n",
       "      <td>0.0</td>\n",
       "      <td>0.0</td>\n",
       "      <td>0.0</td>\n",
       "      <td>0.0</td>\n",
       "      <td>0.0</td>\n",
       "      <td>...</td>\n",
       "      <td>0.0</td>\n",
       "      <td>0.0</td>\n",
       "      <td>0.0</td>\n",
       "      <td>0.0</td>\n",
       "      <td>0.0</td>\n",
       "      <td>1.0</td>\n",
       "      <td>0.0</td>\n",
       "      <td>0.0</td>\n",
       "      <td>0.0</td>\n",
       "      <td>4</td>\n",
       "    </tr>\n",
       "  </tbody>\n",
       "</table>\n",
       "<p>5 rows × 65 columns</p>\n",
       "</div>"
      ],
      "text/plain": [
       "     0    1    2    3    4    5    6    7    8    9  ...   55   56   57   58  \\\n",
       "0  0.0  0.0  1.0  1.0  1.0  0.0  0.0  0.0  0.0  0.0  ...  0.0  0.0  0.0  1.0   \n",
       "1  0.0  0.0  0.0  1.0  1.0  1.0  0.0  0.0  0.0  0.0  ...  0.0  0.0  0.0  0.0   \n",
       "2  0.0  0.0  0.0  0.0  1.0  1.0  0.0  0.0  0.0  0.0  ...  0.0  0.0  0.0  0.0   \n",
       "3  0.0  0.0  1.0  1.0  1.0  0.0  0.0  0.0  0.0  1.0  ...  0.0  0.0  0.0  1.0   \n",
       "4  0.0  0.0  0.0  0.0  1.0  0.0  0.0  0.0  0.0  0.0  ...  0.0  0.0  0.0  0.0   \n",
       "\n",
       "    59   60   61   62   63  class  \n",
       "0  1.0  1.0  0.0  0.0  0.0      0  \n",
       "1  1.0  1.0  1.0  0.0  0.0      1  \n",
       "2  0.0  1.0  1.0  1.0  0.0      2  \n",
       "3  1.0  1.0  1.0  0.0  0.0      3  \n",
       "4  0.0  1.0  0.0  0.0  0.0      4  \n",
       "\n",
       "[5 rows x 65 columns]"
      ]
     },
     "execution_count": 123,
     "metadata": {},
     "output_type": "execute_result"
    }
   ],
   "source": [
    "#MNIST TIME\n",
    "mnist_digit = load_digits()\n",
    "#print(len(mnist_digit.data), len(mnist_digit.target))\n",
    "mnist_set = pd.DataFrame(mnist_digit.data)\n",
    "# CONVERT DATA TO ON/OFF VALUES INSTEAD OF CONTINUOUS?\n",
    "# mnist_set['class'] = mnist_digit.target\n",
    "# mnist_set.tail()\n",
    "f_names = [i for i in range(0,64)]\n",
    "threshold_intensity = 5\n",
    "for idx in mnist_set.index:\n",
    "    for feature_name in f_names:\n",
    "        mnist_set.at[idx,feature_name] = \"0\" if mnist_set.at[idx,feature_name] < threshold_intensity else \"1\"\n",
    "        \n",
    "mnist_set[\"class\"] = mnist_digit.target\n",
    "mnist_set.head()"
   ]
  },
  {
   "cell_type": "code",
   "execution_count": 124,
   "id": "a4085e3e",
   "metadata": {},
   "outputs": [
    {
     "name": "stdout",
     "output_type": "stream",
     "text": [
      "1.0 1.0\n"
     ]
    },
    {
     "data": {
      "text/plain": [
       "True"
      ]
     },
     "execution_count": 124,
     "metadata": {},
     "output_type": "execute_result"
    }
   ],
   "source": [
    "features = {}\n",
    "for fname in f_names:\n",
    "    features[fname] = [0.0,1.0]\n",
    "\n",
    "#isinstance(features[4][0], mnist_set.at[4,4])\n",
    "print(mnist_set.at[4,4], features[4][1])\n",
    "mnist_set.at[4,4] == features[4][1]"
   ]
  },
  {
   "cell_type": "code",
   "execution_count": 125,
   "id": "fda87527",
   "metadata": {},
   "outputs": [
    {
     "data": {
      "text/plain": [
       "[2, 4, 6]"
      ]
     },
     "execution_count": 125,
     "metadata": {},
     "output_type": "execute_result"
    }
   ],
   "source": [
    "max_depth = 10\n",
    "tree_nums = [10,50,150]\n",
    "train,test = train_test_split(mnist_set, test_size=0.3,random_state = 42, shuffle=True)\n",
    "subset_length = ceil(sqrt(len(train)))\n",
    "calculation_options = [gini_index_calculation, entropy_calculation, misclassification_calculation]\n",
    "len_of_features = len(features)\n",
    "M = [i for i in range(2,ceil(log2(len_of_features+1))) if i % 2 == 0]\n",
    "M"
   ]
  },
  {
   "cell_type": "code",
   "execution_count": null,
   "id": "03a8857a",
   "metadata": {},
   "outputs": [],
   "source": [
    "for random_val in M:\n",
    "    print(random_val)\n",
    "    for idx, calculation in enumerate(calculation_options):\n",
    "        print(f\"calculation: {idx}\")\n",
    "        for num_of_trees in tree_nums:\n",
    "            trained_trees = random_forest(train, features, subset_length, max_depth, num_of_trees, calculation,random_val)\n",
    "            predictions = predict_data_with_trees(test, trained_trees, num_of_trees)\n",
    "            i = 0\n",
    "            correct = 0\n",
    "            total = 0\n",
    "            for ind, val in test['class'].items():\n",
    "                if predictions[i] == val:\n",
    "                    correct+=1\n",
    "                i+=1\n",
    "                total+=1\n",
    "            print(f\"Correct classifications: {correct} | total {total}\")"
   ]
  },
  {
   "cell_type": "code",
   "execution_count": 42,
   "id": "2ad08c11",
   "metadata": {},
   "outputs": [
    {
     "name": "stdout",
     "output_type": "stream",
     "text": [
      "6\n"
     ]
    }
   ],
   "source": [
    "#car uci lm dataset\n",
    "feature_names = [\"buying\",\"maint\",\"doors\",\"persons\",\"lug_boot\",\"safety\",\"class\"]\n",
    "car_set = pd.read_csv(\"https://archive.ics.uci.edu/ml/machine-learning-databases/car/car.data\", names = feature_names)\n",
    "features = {\n",
    "    \"buying\":[\"vhigh\",\"high\",\"med\",\"low\"],\n",
    "    \"maint\":[\"vhigh\",\"high\",\"med\",\"low\"],\n",
    "    \"doors\":[\"2\",\"3\",\"4\",\"5more\"],\n",
    "    \"persons\":[\"2\",\"4\",\"more\"],\n",
    "    \"lug_boot\":[\"small\",\"med\",\"big\"],\n",
    "    \"safety\":[\"low\",\"med\",\"high\"]\n",
    "}\n",
    "#transform classes into numerical values\n",
    "labelEnc.fit(car_set['class'])\n",
    "car_set['class'] = labelEnc.transform(car_set['class'])\n",
    "car_set.tail()\n",
    "len_of_features = len(features)\n",
    "print(len_of_features)\n",
    "M = [i for i in range(2,ceil(log2(len_of_features)+1)) if i % 2 == 0]\n",
    "M = [2,4,6]"
   ]
  },
  {
   "cell_type": "code",
   "execution_count": 43,
   "id": "9f560b8c",
   "metadata": {},
   "outputs": [],
   "source": [
    "max_depth = 10\n",
    "tree_nums = [50,100,150]\n",
    "train,test = train_test_split(car_set, test_size=0.3,random_state = 42, shuffle=True)\n",
    "subset_length = ceil(sqrt(len(train)))\n",
    "calculation_options = [gini_index_calculation, entropy_calculation, misclassification_calculation]"
   ]
  },
  {
   "cell_type": "code",
   "execution_count": 45,
   "id": "41cdc71b",
   "metadata": {},
   "outputs": [
    {
     "name": "stdout",
     "output_type": "stream",
     "text": [
      "2\n",
      "calculation: 0\n"
     ]
    },
    {
     "name": "stderr",
     "output_type": "stream",
     "text": [
      "C:\\Users\\waffl\\AppData\\Local\\Temp/ipykernel_9224/2692984749.py:15: DeprecationWarning: Sampling from a set deprecated\n",
      "since Python 3.9 and will be removed in a subsequent version.\n",
      "  r_features = dict(sample(features.items(),M))\n"
     ]
    },
    {
     "name": "stdout",
     "output_type": "stream",
     "text": [
      "Correct classifications: 382 | total 519\n",
      "Correct classifications: 369 | total 519\n",
      "Correct classifications: 370 | total 519\n",
      "calculation: 1\n",
      "Correct classifications: 358 | total 519\n",
      "Correct classifications: 358 | total 519\n",
      "Correct classifications: 358 | total 519\n",
      "calculation: 2\n",
      "Correct classifications: 367 | total 519\n",
      "Correct classifications: 368 | total 519\n",
      "Correct classifications: 363 | total 519\n",
      "4\n",
      "calculation: 0\n",
      "Correct classifications: 413 | total 519\n",
      "Correct classifications: 404 | total 519\n",
      "Correct classifications: 417 | total 519\n",
      "calculation: 1\n",
      "Correct classifications: 358 | total 519\n",
      "Correct classifications: 358 | total 519\n",
      "Correct classifications: 358 | total 519\n",
      "calculation: 2\n",
      "Correct classifications: 409 | total 519\n",
      "Correct classifications: 363 | total 519\n",
      "Correct classifications: 389 | total 519\n",
      "6\n",
      "calculation: 0\n",
      "Correct classifications: 418 | total 519\n",
      "Correct classifications: 415 | total 519\n",
      "Correct classifications: 425 | total 519\n",
      "calculation: 1\n",
      "Correct classifications: 358 | total 519\n",
      "Correct classifications: 358 | total 519\n",
      "Correct classifications: 358 | total 519\n",
      "calculation: 2\n",
      "Correct classifications: 399 | total 519\n",
      "Correct classifications: 401 | total 519\n",
      "Correct classifications: 375 | total 519\n"
     ]
    }
   ],
   "source": [
    "for rand_M in M:\n",
    "    print(rand_M)\n",
    "    for idx, calculation in enumerate(calculation_options):\n",
    "        print(f\"calculation: {idx}\")\n",
    "        for num_of_trees in tree_nums:\n",
    "            trained_trees = random_forest(train, features, subset_length, max_depth, num_of_trees, calculation,rand_M)\n",
    "\n",
    "            predictions = predict_data_with_trees(test, trained_trees, num_of_trees)\n",
    "            i = 0\n",
    "            correct = 0\n",
    "            total = 0\n",
    "            for ind, val in test['class'].items():\n",
    "                if predictions[i] == val:\n",
    "                    correct+=1\n",
    "                i+=1\n",
    "                total+=1\n",
    "            print(f\"Correct classifications: {correct} | total {total}\")"
   ]
  },
  {
   "cell_type": "code",
   "execution_count": null,
   "id": "bd2cb5be",
   "metadata": {},
   "outputs": [],
   "source": [
    "#car uci lm dataset\n",
    "feature_names = [\"buying\",\"maint\",\"doors\",\"person\",\"lug_boot\",\"safety\",\"class\"]\n",
    "albalone_set = pd.read_csv(\"https://archive.ics.uci.edu/ml/datasets/Car+Evaluation/Car+Evaluation.data\", names = feature_names)\n",
    "features = {\n",
    "    \"buying\":[\"v-high\",\"high\",\"med\",\"low\"],\n",
    "    \"maint\":[\"v-high\",\"high\",\"med\",\"low\"],\n",
    "    \"doors\":[\"2\",\"3\",\"4\",\"5-more\"],\n",
    "    \"persons\":[\"2\",\"4\",\"more\"],\n",
    "    \"lug_boot\":[\"small\",\"med\",\"big\"],\n",
    "    \"safety\":[\"low\",\"med\",\"high\"]\n",
    "}\n",
    "#transform classes into numerical values\n",
    "labelEnc.fit(car_set['class'])\n",
    "car_set['class'] = labelEnc.transform(car_set['class'])\n",
    "car_set.head()"
   ]
  }
 ],
 "metadata": {
  "kernelspec": {
   "display_name": "Python 3 (ipykernel)",
   "language": "python",
   "name": "python3"
  },
  "language_info": {
   "codemirror_mode": {
    "name": "ipython",
    "version": 3
   },
   "file_extension": ".py",
   "mimetype": "text/x-python",
   "name": "python",
   "nbconvert_exporter": "python",
   "pygments_lexer": "ipython3",
   "version": "3.9.7"
  }
 },
 "nbformat": 4,
 "nbformat_minor": 5
}

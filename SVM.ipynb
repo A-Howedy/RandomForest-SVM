{
 "cells": [
  {
   "cell_type": "code",
   "execution_count": 25,
   "id": "1a4e1cf9-48cf-4f54-9341-88e47d21dd74",
   "metadata": {},
   "outputs": [],
   "source": [
    "import numpy as np\n",
    "import math\n",
    "import pandas as pd\n",
    "import  matplotlib.pyplot as plt"
   ]
  },
  {
   "cell_type": "code",
   "execution_count": 35,
   "id": "86cd20fb-4e14-4cd8-be10-c1b9abd16e32",
   "metadata": {},
   "outputs": [],
   "source": [
    "def split_frame(train):\n",
    "    y = train['class']\n",
    "    del train['class']\n",
    "    return train.to_numpy(), y"
   ]
  },
  {
   "cell_type": "code",
   "execution_count": null,
   "id": "fa2d12f9-a101-43d5-b54f-4fbe2871253f",
   "metadata": {},
   "outputs": [],
   "source": [
    "def gaussian_kernel(a, b):\n",
    "    return 0"
   ]
  },
  {
   "cell_type": "code",
   "execution_count": 46,
   "id": "8bfc4563-2a75-4400-a199-141588700c45",
   "metadata": {},
   "outputs": [],
   "source": [
    "def custom_kernel(a,b):\n",
    "    c = 0.5\n",
    "    return ((np.transpose(a) * b + c) * (np.transpose(a) * b + c))"
   ]
  },
  {
   "cell_type": "code",
   "execution_count": 8,
   "id": "a8ac028d-5ee6-410f-aaa2-c36436de6ad1",
   "metadata": {},
   "outputs": [],
   "source": [
    "def calculate_error(a, x, y, x_set, b, kernel):\n",
    "    f_xk = (a * y) * kernel(x, x_set) +  b\n",
    "    return f_xk - y    "
   ]
  },
  {
   "cell_type": "code",
   "execution_count": 12,
   "id": "c25c949d-3796-4686-8328-e29cf4d9818d",
   "metadata": {},
   "outputs": [],
   "source": [
    "def calculate_constrains(C, ai, aj, yi, yj):\n",
    "    L = max(0, (ai-aj)) if (yi != yj) else max(0, (ai+aj-C))\n",
    "    H = min(C, (C+aj-ai)) if (yi != yj) else min(C, ai+aj)\n",
    "    return L, H"
   ]
  },
  {
   "cell_type": "code",
   "execution_count": 13,
   "id": "8e17f4f4-ebf8-407d-b1fa-8065ae597aa8",
   "metadata": {},
   "outputs": [],
   "source": [
    "def calculate_eta(xi, xj ,kernel):\n",
    "    eta1 = 2 * kernel(xi,xj)\n",
    "    eta2 = kernel(xi,xi)\n",
    "    eta3 = kernel(xj,xj)\n",
    "    return eta1 - eta2 - eta3"
   ]
  },
  {
   "cell_type": "code",
   "execution_count": 14,
   "id": "8996b675-d319-4283-a141-059f46d4d729",
   "metadata": {},
   "outputs": [],
   "source": [
    "def calculate_aj(aj, yj, error_i, error_j, eta, H, J):\n",
    "    new_aj = aj - ((yj * (error_i - error_j)) / eta)\n",
    "    if new_aj > H:\n",
    "        return H\n",
    "    elif new_aj < L:\n",
    "        return L\n",
    "    else:\n",
    "        return new_aj"
   ]
  },
  {
   "cell_type": "code",
   "execution_count": 16,
   "id": "7085b017-793e-4963-ad79-005a6427d02f",
   "metadata": {},
   "outputs": [],
   "source": [
    "def calculate_ai(ai, yi, yj, a_j_old, aj):\n",
    "    return ai + yi*yj*(a_j_old - aj)"
   ]
  },
  {
   "cell_type": "code",
   "execution_count": 17,
   "id": "21e86a84-4a01-4adf-a8b2-fb4dbefe9f4a",
   "metadata": {},
   "outputs": [],
   "source": [
    "def calculate_b1(b, error_i, yi, ai, a_i_old, xi, yj, aj, a_j_old, xj, kernel):\n",
    "    return b - error_i - yi*(ai - a_i_old)*kernel(xi,xi) - yj*(aj - a_j_old)*kernel(xi,xj)"
   ]
  },
  {
   "cell_type": "code",
   "execution_count": 18,
   "id": "c72884dd-70e0-4557-8634-a879cab117dd",
   "metadata": {},
   "outputs": [],
   "source": [
    "def calculate_b2(b, error_j, yi, ai, ai_old, xi, xj, yj, aj, a_j_old, kernel):\n",
    "    return b - error_j - yi*(ai - a_i_old)*kernel(xi,xj) - yj*(aj - a_j_old)*kernel(xj,xj)"
   ]
  },
  {
   "cell_type": "code",
   "execution_count": 19,
   "id": "cd26c439-b18c-49ae-891b-26bbbe8121ee",
   "metadata": {},
   "outputs": [],
   "source": [
    "def simplified_SMO(C, tolerance, max_iterations, train, kernel):\n",
    "    x, y = split_frame(train)\n",
    "    train_length = len(x)\n",
    "    j_tol = 0.000005\n",
    "    #initialize Lagrange multiplies\n",
    "    a = np.zeros(train_length)\n",
    "    b = 0\n",
    "    number_of_iterations = 0\n",
    "    while number_of_iterations < max_iterations:\n",
    "        a_changes = 0\n",
    "        #iterate over length of training set\n",
    "        for i in range(0, train_length):\n",
    "            #calculate the error with the current example\n",
    "            error_i = calculate_error(x[i], y[i])\n",
    "            if ((y[i] * error_i) < tolerance * -1 and a[i] < C) or ((y[i] * error_i) > tolerance and a[i] > 0):\n",
    "                j = get_j(train_length, i)\n",
    "                a_j_old = a[j]\n",
    "                a_i_old = a[i]\n",
    "                L, H = calculate_constraints(C, a[i], a[j], y[i], y[j])\n",
    "                if L==H:\n",
    "                    continue\n",
    "                eta = calculate_eta(x[i],x[j])\n",
    "                if eta >= 0:\n",
    "                    continue\n",
    "                error_j = calcualte_error(x[j], y[j])\n",
    "                a[j] = calculate_aj(a[j], y[j], error_i, error_j, eta, H, L)\n",
    "                #if j change is miniscule do not need to update i\n",
    "                if abs(a[j] - a_j_old) < j_tol:\n",
    "                    continue\n",
    "                a[i] = calculate_ai(a[i], y[i], y[j], a_j_old, a_j)\n",
    "                if (a[i] > 0) and (a[i] < C):\n",
    "                    b = calculate_b1(b, error_i, y[i], a[i], a_i_old, x[i], y[j], a[j], a_j_old, x[j])\n",
    "                elif (a[j] > 0) and (a[j] < C):\n",
    "                    b = calculate_b2(b, error_j, y[i], a[i], a_i_old, x[i], x[j], y[j], a[j], a_j_old)\n",
    "                else:\n",
    "                    b1 = calculate_b1(b, error_i, y[i], a[i], a_i_old, x[i], y[j], a[j], a_j_old, x[j])\n",
    "                    b2 = calculate_b2(b, error_j, y[i], a[i], a_i_old, x[i], x[j], y[j], a[j], a_j_old)\n",
    "                    b = (b1 + b2) / 2\n",
    "                a_changes+=1\n",
    "        #if convergence (i.e. no changes to multipliers throughout entire iteration)\n",
    "        if a_changes == 0:\n",
    "            number_of_iterations+=1\n",
    "        else:\n",
    "            number_of_iterations=0     \n",
    "    return a, b"
   ]
  },
  {
   "cell_type": "code",
   "execution_count": 42,
   "id": "d109f737-a535-4a42-8225-2cdb83966893",
   "metadata": {},
   "outputs": [],
   "source": [
    "blobs_set = pd.read_csv(\"blobs.csv\")\n",
    "del blobs_set[\"Unnamed: 0\"]"
   ]
  },
  {
   "cell_type": "code",
   "execution_count": 34,
   "id": "f70446a2-d96a-4f3a-8d43-a2ffd2952d76",
   "metadata": {},
   "outputs": [
    {
     "data": {
      "text/plain": [
       "<matplotlib.collections.PathCollection at 0x26b82962c70>"
      ]
     },
     "execution_count": 34,
     "metadata": {},
     "output_type": "execute_result"
    },
    {
     "data": {
      "image/png": "[encoded data removed]",
      "text/plain": [
       "<Figure size 432x288 with 1 Axes>"
      ]
     },
     "metadata": {
      "needs_background": "light"
     },
     "output_type": "display_data"
    }
   ],
   "source": [
    "plt.scatter(blobs_set[\"0\"], blobs_set[\"1\"])"
   ]
  },
  {
   "cell_type": "code",
   "execution_count": 43,
   "id": "19e5662f-9307-44cc-b3c2-0d702170c4b7",
   "metadata": {},
   "outputs": [],
   "source": [
    "data, labels = split_frame(blobs_set)"
   ]
  },
  {
   "cell_type": "code",
   "execution_count": null,
   "id": "9f7a4af2-84f3-4819-9584-79971d7cb2bd",
   "metadata": {},
   "outputs": [],
   "source": []
  }
 ],
 "metadata": {
  "kernelspec": {
   "display_name": "Python 3 (ipykernel)",
   "language": "python",
   "name": "python3"
  },
  "language_info": {
   "codemirror_mode": {
    "name": "ipython",
    "version": 3
   },
   "file_extension": ".py",
   "mimetype": "text/x-python",
   "name": "python",
   "nbconvert_exporter": "python",
   "pygments_lexer": "ipython3",
   "version": "3.9.7"
  }
 },
 "nbformat": 4,
 "nbformat_minor": 5
}

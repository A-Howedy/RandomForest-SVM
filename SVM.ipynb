{
 "cells": [
  {
   "cell_type": "code",
   "execution_count": 250,
   "id": "1a4e1cf9-48cf-4f54-9341-88e47d21dd74",
   "metadata": {},
   "outputs": [],
   "source": [
    "import numpy as np\n",
    "import math\n",
    "import pandas as pd\n",
    "import random\n",
    "import matplotlib.pyplot as plt\n",
    "from sklearn.model_selection import train_test_split"
   ]
  },
  {
   "cell_type": "code",
   "execution_count": 274,
   "id": "86cd20fb-4e14-4cd8-be10-c1b9abd16e32",
   "metadata": {},
   "outputs": [],
   "source": [
    "def split_frame(train):\n",
    "    y = train['class']\n",
    "    del train['class']\n",
    "    return train.to_numpy(), y.replace(0,-1).to_numpy()"
   ]
  },
  {
   "cell_type": "code",
   "execution_count": 206,
   "id": "4e31bfe3-797f-484a-9f42-365add62b936",
   "metadata": {},
   "outputs": [],
   "source": [
    "def linear(x, w, b):\n",
    "    return np.sign(np.dot(w.T, x.T) + b ).astype(int)"
   ]
  },
  {
   "cell_type": "code",
   "execution_count": null,
   "id": "fa2d12f9-a101-43d5-b54f-4fbe2871253f",
   "metadata": {},
   "outputs": [],
   "source": [
    "def gaussian_kernel(a, b):\n",
    "    return 0"
   ]
  },
  {
   "cell_type": "code",
   "execution_count": 46,
   "id": "8bfc4563-2a75-4400-a199-141588700c45",
   "metadata": {},
   "outputs": [],
   "source": [
    "def custom_kernel(a,b):\n",
    "    c = 0.5\n",
    "    return ((np.transpose(a) * b + c) * (np.transpose(a) * b + c))"
   ]
  },
  {
   "cell_type": "code",
   "execution_count": 184,
   "id": "04018536-5b7f-4bcf-9334-9191f3e32561",
   "metadata": {},
   "outputs": [],
   "source": [
    "def test_k(a,b):\n",
    "    #return np.inner(a,b).sum()\n",
    "    return np.inner(a,b)"
   ]
  },
  {
   "cell_type": "code",
   "execution_count": 193,
   "id": "fd9d70e2-1326-4019-b4f8-54a0fd5b18f4",
   "metadata": {},
   "outputs": [],
   "source": [
    "def linear_kernel(a,b):\n",
    "    return np.dot(a,b.T)"
   ]
  },
  {
   "cell_type": "code",
   "execution_count": 67,
   "id": "1af3519c-4d83-473f-aaed-4da3e6d6c403",
   "metadata": {},
   "outputs": [],
   "source": [
    "def get_j(train_length, i):\n",
    "    remaining = [j for j in range(0,train_length)]\n",
    "    remaining.remove(i)\n",
    "    return random.choice(remaining)"
   ]
  },
  {
   "cell_type": "code",
   "execution_count": 200,
   "id": "a8ac028d-5ee6-410f-aaa2-c36436de6ad1",
   "metadata": {},
   "outputs": [],
   "source": [
    "def calculate_error(a, x, y, x_set, b, kernel):\n",
    "    f_xk = (a * y) * kernel(x, x_set) +  b\n",
    "    return f_xk - y    "
   ]
  },
  {
   "cell_type": "code",
   "execution_count": 208,
   "id": "1e524684-5f96-4ffd-b304-a279aeb8f079",
   "metadata": {},
   "outputs": [],
   "source": [
    "def calculate_w(a, x, y):\n",
    "    return np.dot(x.T, np.multiply(a,y))"
   ]
  },
  {
   "cell_type": "code",
   "execution_count": 207,
   "id": "9b12e718-0aa1-4d26-9498-498e00f35bff",
   "metadata": {},
   "outputs": [],
   "source": [
    "def new_calculate_error(w, xk, yk, b):\n",
    "    return linear(xk, w, b) - yk     "
   ]
  },
  {
   "cell_type": "code",
   "execution_count": 69,
   "id": "c25c949d-3796-4686-8328-e29cf4d9818d",
   "metadata": {},
   "outputs": [],
   "source": [
    "def calculate_constraints(C, ai, aj, yi, yj):\n",
    "    L = max(0, (ai-aj)) if (yi != yj) else max(0, (ai+aj-C))\n",
    "    H = min(C, (C+aj-ai)) if (yi != yj) else min(C, ai+aj)\n",
    "    return L, H"
   ]
  },
  {
   "cell_type": "code",
   "execution_count": 13,
   "id": "8e17f4f4-ebf8-407d-b1fa-8065ae597aa8",
   "metadata": {},
   "outputs": [],
   "source": [
    "def calculate_eta(xi, xj ,kernel):\n",
    "    eta1 = 2 * kernel(xi,xj)\n",
    "    eta2 = kernel(xi,xi)\n",
    "    eta3 = kernel(xj,xj)\n",
    "    return eta1 - eta2 - eta3"
   ]
  },
  {
   "cell_type": "code",
   "execution_count": 174,
   "id": "8996b675-d319-4283-a141-059f46d4d729",
   "metadata": {},
   "outputs": [],
   "source": [
    "def calculate_aj(aj, yj, error_i, error_j, eta, H, L):\n",
    "    new_aj = aj - ((yj * (error_i - error_j)) / eta)\n",
    "    if new_aj > H:\n",
    "        return H\n",
    "    elif new_aj < L:\n",
    "        return L\n",
    "    else:\n",
    "        return new_aj"
   ]
  },
  {
   "cell_type": "code",
   "execution_count": 131,
   "id": "7085b017-793e-4963-ad79-005a6427d02f",
   "metadata": {},
   "outputs": [],
   "source": [
    "def calculate_ai(ai, yi, yj, a_j_old, aj):\n",
    "    return ai + (yi*yj)*(a_j_old - aj)"
   ]
  },
  {
   "cell_type": "code",
   "execution_count": 17,
   "id": "21e86a84-4a01-4adf-a8b2-fb4dbefe9f4a",
   "metadata": {},
   "outputs": [],
   "source": [
    "def calculate_b1(b, error_i, yi, ai, a_i_old, xi, yj, aj, a_j_old, xj, kernel):\n",
    "    return b - error_i - yi*(ai - a_i_old)*kernel(xi,xi) - yj*(aj - a_j_old)*kernel(xi,xj)"
   ]
  },
  {
   "cell_type": "code",
   "execution_count": 139,
   "id": "c72884dd-70e0-4557-8634-a879cab117dd",
   "metadata": {},
   "outputs": [],
   "source": [
    "def calculate_b2(b, error_j, yi, ai, a_i_old, xi, xj, yj, aj, a_j_old, kernel):\n",
    "    return b - error_j - yi*(ai - a_i_old)*kernel(xi,xj) - yj*(aj - a_j_old)*kernel(xj,xj)"
   ]
  },
  {
   "cell_type": "code",
   "execution_count": 277,
   "id": "cd26c439-b18c-49ae-891b-26bbbe8121ee",
   "metadata": {},
   "outputs": [],
   "source": [
    "def simplified_SMO(C, tolerance, max_iterations, train, kernel):\n",
    "    x, y = split_frame(train)\n",
    "    print(x, y)\n",
    "    train_length = len(x)\n",
    "    j_tol = 0.000005\n",
    "    #initialize Lagrange multiplies\n",
    "    a = np.zeros(train_length)\n",
    "    b = 0\n",
    "    number_of_iterations = 0\n",
    "    while number_of_iterations < max_iterations:\n",
    "        a_changes = 0\n",
    "        #iterate over length of training set\n",
    "        for i in range(0, train_length-1):\n",
    "            #calculate the error with the current example\n",
    "            j = get_j(train_length, i)\n",
    "            xi = x[i,:]\n",
    "            xj = x[j,:]\n",
    "            w = calculate_w(a, x, y)\n",
    "            #error_i = calculate_error(a[i], xi, y[i], x, b, kernel)\n",
    "            error_i = new_calculate_error(w, xi, y[i], b)\n",
    "            if (((y[i] * error_i) < (tolerance * -1)) and (a[i] < C)) or (((y[i] * error_i) > tolerance) and (a[i] > 0)):               \n",
    "                a_j_old = a[j]\n",
    "                a_i_old = a[i]\n",
    "                L, H = calculate_constraints(C, a[i], a[j], y[i], y[j])\n",
    "                if L==H:\n",
    "                    continue                    \n",
    "                eta = calculate_eta(xi,xj, kernel)\n",
    "                if eta >= 0:\n",
    "                    continue\n",
    "                #error_j = calculate_error(a[j], xj, y[j], x, b, kernel)\n",
    "                error_j = new_calculate_error(w, xj, y[j], b)\n",
    "                a[j] = calculate_aj(a_j_old, y[j], error_i, error_j, eta, H, L)\n",
    "                #if j change is miniscule do not need to update i\n",
    "                if abs(a[j] - a_j_old) < j_tol:\n",
    "                    continue\n",
    "                a[i] = calculate_ai(a_i_old, y[i], y[j], a_j_old, a[j])\n",
    "                if (a[i] > 0) and (a[i] < C):\n",
    "                    b = calculate_b1(b, error_i, y[i], a[i], a_i_old, xi, y[j], a[j], a_j_old, xj, kernel)\n",
    "                elif (a[j] > 0) and (a[j] < C):\n",
    "                    b = calculate_b2(b, error_j, y[i], a[i], a_i_old, xi, xj, y[j], a[j], a_j_old, kernel)\n",
    "                else:\n",
    "                    b1 = calculate_b1(b, error_i, y[i], a[i], a_i_old, xi, y[j], a[j], a_j_old, xj, kernel)\n",
    "                    b2 = calculate_b2(b, error_j, y[i], a[i], a_i_old, xi, xj, y[j], a[j], a_j_old, kernel)\n",
    "                    b = (b1 + b2) / 2\n",
    "                a_changes+=1\n",
    "        #if convergence (i.e. no changes to multipliers throughout entire iteration)\n",
    "        print(a_changes, number_of_iterations)\n",
    "        if a_changes == 0:\n",
    "            number_of_iterations+=1\n",
    "        else:\n",
    "            number_of_iterations=0\n",
    "        idx = np.where(a > 0)[0]\n",
    "        s_vec = x[idx,:]\n",
    "        w = calculate_w(a,x,y)\n",
    "    return a, b, s_vec,w"
   ]
  },
  {
   "cell_type": "code",
   "execution_count": null,
   "id": "035562a9-0f13-4d45-85c5-46e3c09f7ca6",
   "metadata": {},
   "outputs": [],
   "source": []
  },
  {
   "cell_type": "code",
   "execution_count": 252,
   "id": "9f7a4af2-84f3-4819-9584-79971d7cb2bd",
   "metadata": {},
   "outputs": [],
   "source": [
    "#parameters\n",
    "C = 1\n",
    "tolerance = 0.01\n",
    "max_iterations = 10"
   ]
  },
  {
   "cell_type": "code",
   "execution_count": 278,
   "id": "1ca88173-f7df-4d93-b25b-28bf7f0a0e32",
   "metadata": {},
   "outputs": [
    {
     "name": "stdout",
     "output_type": "stream",
     "text": [
      "[[1.99727937 2.90336564]\n",
      " [4.91706468 2.79411534]\n",
      " [4.30210045 3.6922861 ]\n",
      " ...\n",
      " [4.8222607  2.84290839]\n",
      " [4.71838251 1.97747426]\n",
      " [5.94227952 3.00314526]] [-1  1  1 ...  1  1  1]\n",
      "5 0\n",
      "3 0\n",
      "0 0\n",
      "0 1\n",
      "0 2\n",
      "0 3\n",
      "0 4\n",
      "0 5\n",
      "0 6\n",
      "0 7\n",
      "0 8\n",
      "0 9\n"
     ]
    }
   ],
   "source": [
    "blobby = pd.read_csv(\"blobs.csv\")\n",
    "del blobby[\"Unnamed: 0\"]\n",
    "train, test = train_test_split(blobby, test_size=0.3, random_state=42)\n",
    "a, b, s_vec, w = simplified_SMO(C, tolerance, max_iterations, train, test_k)"
   ]
  },
  {
   "cell_type": "code",
   "execution_count": 279,
   "id": "0bb9ed0c-07aa-47bb-b72f-85e6d1e3be72",
   "metadata": {},
   "outputs": [
    {
     "data": {
      "text/plain": [
       "-31.5014297216499"
      ]
     },
     "execution_count": 279,
     "metadata": {},
     "output_type": "execute_result"
    }
   ],
   "source": [
    "b"
   ]
  },
  {
   "cell_type": "code",
   "execution_count": 280,
   "id": "fb7021c0-ddd4-4079-8c45-f2c2c4881379",
   "metadata": {},
   "outputs": [
    {
     "data": {
      "text/plain": [
       "array([[4.30210045, 3.6922861 ],\n",
       "       [2.86115075, 2.79726483],\n",
       "       [2.38153718, 1.74098285],\n",
       "       [4.31219775, 2.86726862],\n",
       "       [3.55113704, 2.47902328],\n",
       "       [2.08122428, 2.4965426 ],\n",
       "       [4.71325644, 3.07203531],\n",
       "       [3.81095129, 2.11069187],\n",
       "       [2.37230423, 1.8424646 ],\n",
       "       [2.02484468, 1.74424523],\n",
       "       [3.91229725, 1.95404975],\n",
       "       [4.0990101 , 3.36172888],\n",
       "       [5.6335694 , 2.60197824],\n",
       "       [3.66669067, 2.18992106],\n",
       "       [3.69848882, 2.37732636],\n",
       "       [2.85263477, 1.32703912]])"
      ]
     },
     "execution_count": 280,
     "metadata": {},
     "output_type": "execute_result"
    }
   ],
   "source": [
    "s_vec"
   ]
  },
  {
   "cell_type": "code",
   "execution_count": 281,
   "id": "19f0d8c4-f937-4599-93b1-9091b4635770",
   "metadata": {},
   "outputs": [
    {
     "data": {
      "text/plain": [
       "array([5.94232956, 4.27994074])"
      ]
     },
     "execution_count": 281,
     "metadata": {},
     "output_type": "execute_result"
    }
   ],
   "source": [
    "w"
   ]
  },
  {
   "cell_type": "code",
   "execution_count": 249,
   "id": "fa3f32a4-2947-4ca5-9ab1-3db2b9e12bb7",
   "metadata": {},
   "outputs": [],
   "source": [
    "def predict(w,x_set,b):\n",
    "    predictions = [0 for i in range(0,len(x_set))]\n",
    "    for i in range(0, len(x_set)):\n",
    "        predictions[i] = linear(x_set[i], w, b)\n",
    "    return predictions"
   ]
  },
  {
   "cell_type": "code",
   "execution_count": null,
   "id": "a2c82048-07e0-4b4c-a36c-7edcedffbce2",
   "metadata": {},
   "outputs": [],
   "source": [
    "#plotting time\n",
    "plt.scatter(blobs_set[\"0\"], blobs_set[\"1\"])\n",
    "xx = np.linspace(0,7)\n",
    "yy = (-w[0] / w[1]) * xx - v / w[1]"
   ]
  }
 ],
 "metadata": {
  "kernelspec": {
   "display_name": "Python 3 (ipykernel)",
   "language": "python",
   "name": "python3"
  },
  "language_info": {
   "codemirror_mode": {
    "name": "ipython",
    "version": 3
   },
   "file_extension": ".py",
   "mimetype": "text/x-python",
   "name": "python",
   "nbconvert_exporter": "python",
   "pygments_lexer": "ipython3",
   "version": "3.9.7"
  }
 },
 "nbformat": 4,
 "nbformat_minor": 5
}

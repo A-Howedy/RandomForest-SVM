{
 "cells": [
  {
   "cell_type": "code",
   "execution_count": 3,
   "id": "1a4e1cf9-48cf-4f54-9341-88e47d21dd74",
   "metadata": {},
   "outputs": [],
   "source": [
    "import numpy as np\n",
    "import math"
   ]
  },
  {
   "cell_type": "code",
   "execution_count": 6,
   "id": "cd26c439-b18c-49ae-891b-26bbbe8121ee",
   "metadata": {},
   "outputs": [],
   "source": [
    "def simplified_SMO(C, tolerance, max_iterations, train):\n",
    "    x, y = split_frame(train)\n",
    "    train_length = len(x)\n",
    "    j_tol = 0.000005\n",
    "    #initialize Lagrange multiplies\n",
    "    a = np.zeros(train_length)\n",
    "    b = 0\n",
    "    number_of_iterations = 0\n",
    "    while number_of_iterations < max_iterations:\n",
    "        a_changes = 0\n",
    "        #iterate over length of training set\n",
    "        for i in range(0, train_length):\n",
    "            #calculate the error with the current example\n",
    "            error_i = calculate_error(x[i], y[i])\n",
    "            if ((y[i] * error_i) < tolerance * -1 and a[i] < C) or ((y[i] * error_i) > tolerance and a[i] > 0):\n",
    "                j = get_j(train_length, i)\n",
    "                a_j_old = a[j]\n",
    "                a_i_old = a[i]\n",
    "                L, H = calculate_constraints(C, a[i], a[j], y[i], y[j])\n",
    "                if L==H:\n",
    "                    continue\n",
    "                eta = calculate_eta(x[i],x[j])\n",
    "                if eta >= 0:\n",
    "                    continue\n",
    "                error_j = calcualte_error(x[j], y[j])\n",
    "                a[j] = calculate_aj(a[j], y[j], error_i, error_j, eta)\n",
    "                #if j change is miniscule do not need to update i\n",
    "                if abs(a[j] - a_j_old) < j_tol:\n",
    "                    continue\n",
    "                a[i] = calculate_ai(a[i], y[i], y[j], a_j_old, a_j)\n",
    "                if (a[i] > 0) and (a[i] < C):\n",
    "                    b = calculate_b1(b, error_i, y[i], a[i], a_i_old, x[i], y[j], a[j], a_j_old, x[j])\n",
    "                elif (a[j] > 0) and (a[j] < C):\n",
    "                    b = calculate_b2(b, error_j, y[i], a[i], a_i_old, x[i], x[j], y[j], a[j], a_j_old)\n",
    "                else:\n",
    "                    b1 = calculate_b1(b, error_i, y[i], a[i], a_i_old, x[i], y[j], a[j], a_j_old, x[j])\n",
    "                    b2 = calculate_b2(b, error_j, y[i], a[i], a_i_old, x[i], x[j], y[j], a[j], a_j_old)\n",
    "                    b = (b1 + b2) / 2\n",
    "                a_changes+=1\n",
    "        #if convergence (i.e. no changes to multipliers throughout entire iteration)\n",
    "        if a_changes == 0:\n",
    "            number_of_iterations+=1\n",
    "        else:\n",
    "            number_of_iterations=0     \n",
    "                    "
   ]
  },
  {
   "cell_type": "code",
   "execution_count": null,
   "id": "d109f737-a535-4a42-8225-2cdb83966893",
   "metadata": {},
   "outputs": [],
   "source": []
  }
 ],
 "metadata": {
  "kernelspec": {
   "display_name": "Python 3 (ipykernel)",
   "language": "python",
   "name": "python3"
  },
  "language_info": {
   "codemirror_mode": {
    "name": "ipython",
    "version": 3
   },
   "file_extension": ".py",
   "mimetype": "text/x-python",
   "name": "python",
   "nbconvert_exporter": "python",
   "pygments_lexer": "ipython3",
   "version": "3.9.7"
  }
 },
 "nbformat": 4,
 "nbformat_minor": 5
}
